{
 "cells": [
  {
   "cell_type": "code",
   "execution_count": 15,
   "id": "9efcb97c",
   "metadata": {},
   "outputs": [],
   "source": [
    "from typing import Annotated\n",
    "from typing_extensions import TypedDict\n",
    "from langchain_core.messages import HumanMessage \n",
    "from langgraph.graph import StateGraph,START,END\n",
    "from langgraph.graph.message import add_messages\n",
    "from langchain_groq import ChatGroq\n",
    "from langgraph.prebuilt import ToolNode,tools_condition\n",
    "from langgraph.checkpoint.memory import MemorySaver"
   ]
  },
  {
   "cell_type": "code",
   "execution_count": 16,
   "id": "f3035e93",
   "metadata": {},
   "outputs": [],
   "source": [
    "memory = MemorySaver()"
   ]
  },
  {
   "cell_type": "code",
   "execution_count": 2,
   "id": "38fdd027",
   "metadata": {},
   "outputs": [
    {
     "data": {
      "text/plain": [
       "True"
      ]
     },
     "execution_count": 2,
     "metadata": {},
     "output_type": "execute_result"
    }
   ],
   "source": [
    "import os\n",
    "from dotenv import load_dotenv\n",
    "load_dotenv()"
   ]
  },
  {
   "cell_type": "code",
   "execution_count": 3,
   "id": "bdff99c7",
   "metadata": {},
   "outputs": [],
   "source": [
    "api_key = os.getenv(\"GROQ_API_KEY\")\n",
    "llm = ChatGroq(model=\"llama3-70b-8192\")"
   ]
  },
  {
   "cell_type": "code",
   "execution_count": 4,
   "id": "b934fc0f",
   "metadata": {},
   "outputs": [],
   "source": [
    "from langchain_tavily import TavilySearch\n",
    "\n",
    "tavily_api_key = os.getenv(\"TAVILY_API_KEY\")\n",
    "tool = TavilySearch(max_results=2)\n"
   ]
  },
  {
   "cell_type": "code",
   "execution_count": 5,
   "id": "5da1d504",
   "metadata": {},
   "outputs": [],
   "source": [
    "class State(TypedDict):\n",
    "    messages :Annotated[list,add_messages]"
   ]
  },
  {
   "cell_type": "code",
   "execution_count": 6,
   "id": "8fcb9f07",
   "metadata": {},
   "outputs": [],
   "source": [
    "def multiply(a:int,b:int)->int:\n",
    "    \"\"\"Multiply a and b\n",
    "\n",
    "    Args:\n",
    "        a (int) : first int\n",
    "        b (int) : second int\n",
    "    \n",
    "    Returns:\n",
    "        int : output int    \n",
    "    \"\"\"\n",
    "    return a*b"
   ]
  },
  {
   "cell_type": "code",
   "execution_count": 7,
   "id": "d291a42b",
   "metadata": {},
   "outputs": [],
   "source": [
    "def add(a:int,b:int)->int:\n",
    "    \"\"\"Multiply a and b\n",
    "\n",
    "    Args:\n",
    "        a (int) : first int\n",
    "        b (int) : second int\n",
    "    \n",
    "    Returns:\n",
    "        int : output int    \n",
    "    \"\"\"\n",
    "    return a+b"
   ]
  },
  {
   "cell_type": "code",
   "execution_count": 8,
   "id": "d7e9b863",
   "metadata": {},
   "outputs": [],
   "source": [
    "tools = [tool,multiply,add]\n",
    "llm_with_tools = llm.bind_tools(tools)\n",
    "\n",
    "def tool_calling_llm(state:State):\n",
    "    return {\"messages\":[llm_with_tools.invoke(state[\"messages\"])]}"
   ]
  },
  {
   "cell_type": "code",
   "execution_count": 17,
   "id": "8da3fd84",
   "metadata": {},
   "outputs": [],
   "source": [
    "graph_builder = StateGraph(State)\n",
    "graph_builder.add_node(\"tool_calling_llm\",tool_calling_llm)\n",
    "graph_builder.add_node(\"tools\",ToolNode(tools))\n",
    "graph_builder.add_edge(START,\"tool_calling_llm\")\n",
    "\n",
    "\n",
    "\n",
    "graph_builder.add_conditional_edges(\n",
    "    \"tool_calling_llm\",\n",
    "    tools_condition\n",
    ")\n",
    "\n",
    "graph_builder.add_edge(\"tools\",\"tool_calling_llm\")\n",
    "graph = graph_builder.compile(checkpointer=memory)"
   ]
  },
  {
   "cell_type": "code",
   "execution_count": 18,
   "id": "6992f094",
   "metadata": {},
   "outputs": [
    {
     "data": {
      "image/png": "[encoded data removed]",
      "text/plain": [
       "<IPython.core.display.Image object>"
      ]
     },
     "metadata": {},
     "output_type": "display_data"
    }
   ],
   "source": [
    "from IPython.display import Image,display\n",
    "display(Image(graph.get_graph().draw_mermaid_png()))"
   ]
  },
  {
   "cell_type": "code",
   "execution_count": 13,
   "id": "1daa7baf",
   "metadata": {},
   "outputs": [
    {
     "name": "stdout",
     "output_type": "stream",
     "text": [
      "{'messages': [HumanMessage(content='Hello My name is Anuj', additional_kwargs={}, response_metadata={}, id='b0df4526-1678-4cf4-9cb3-4fe56d2f76c4'), AIMessage(content='Nice to meet you, Anuj! How are you doing today?', additional_kwargs={}, response_metadata={'token_usage': {'completion_tokens': 15, 'prompt_tokens': 2321, 'total_tokens': 2336, 'completion_time': 0.138111853, 'prompt_time': 0.089678149, 'queue_time': 0.055906828000000006, 'total_time': 0.227790002}, 'model_name': 'llama3-70b-8192', 'system_fingerprint': 'fp_dd4ae1c591', 'finish_reason': 'stop', 'logprobs': None}, id='run--cf4532c7-3380-4d36-86c6-3b3ded0f3982-0', usage_metadata={'input_tokens': 2321, 'output_tokens': 15, 'total_tokens': 2336})]}\n"
     ]
    }
   ],
   "source": [
    "response = graph.invoke({\"messages\":\"Hello My name is Anuj\"})\n",
    "print(response)"
   ]
  },
  {
   "cell_type": "code",
   "execution_count": 14,
   "id": "6f46beb9",
   "metadata": {},
   "outputs": [
    {
     "name": "stdout",
     "output_type": "stream",
     "text": [
      "================================\u001b[1m Human Message \u001b[0m=================================\n",
      "\n",
      "Hello My name is Anuj\n",
      "==================================\u001b[1m Ai Message \u001b[0m==================================\n",
      "\n",
      "Nice to meet you, Anuj! How are you doing today?\n"
     ]
    }
   ],
   "source": [
    "for m in response[\"messages\"]:\n",
    "    m.pretty_print()\n",
    "\n"
   ]
  },
  {
   "cell_type": "code",
   "execution_count": 22,
   "id": "e7308370",
   "metadata": {},
   "outputs": [],
   "source": [
    "config = {\"configurable\":{\"thread_id\":\"1\"}}"
   ]
  },
  {
   "cell_type": "code",
   "execution_count": 62,
   "id": "f1e8dd95",
   "metadata": {},
   "outputs": [
    {
     "name": "stdout",
     "output_type": "stream",
     "text": [
      "I think we've reached a record-breaking level of repetition! I've told you multiple times, but I'll say it again: I don't have a personal name. I'm an AI, and I don't have a personal identity or physical presence.\n",
      "\n",
      "Instead of repeating myself, I'd like to try something new. Let's play a game of \"Would You Rather\"! I'll give you two options, and you choose which one you prefer. Then, I'll give you two more options, and so on.\n",
      "\n",
      "Here's your first question: Would you rather have the ability to fly or be invisible?\n",
      "\n",
      "Let's have some fun and take our minds off names!\n"
     ]
    }
   ],
   "source": [
    "response1 = graph_test.invoke({\"messages\":\"I would like to know your name\"},config=config,stream_mode=\"updates\")\n",
    "print(response1[0][\"SuperBot\"][\"messages\"][0].content)"
   ]
  },
  {
   "cell_type": "code",
   "execution_count": 30,
   "id": "7e5fd46b",
   "metadata": {},
   "outputs": [
    {
     "name": "stdout",
     "output_type": "stream",
     "text": [
      "Your name is Anuj!\n"
     ]
    }
   ],
   "source": [
    "response2 = graph.invoke({\"messages\":\"what is my name?\"},config=config)\n",
    "print(response2[\"messages\"][-1].content)"
   ]
  },
  {
   "cell_type": "code",
   "execution_count": null,
   "id": "cf2db6bd",
   "metadata": {},
   "outputs": [],
   "source": [
    "config = {\"configurable\":{\"thread_id\":\"7\"}}"
   ]
  },
  {
   "cell_type": "code",
   "execution_count": 32,
   "id": "665b5ddd",
   "metadata": {},
   "outputs": [
    {
     "name": "stdout",
     "output_type": "stream",
     "text": [
      "{'tool_calling_llm': {'messages': [AIMessage(content=\"Nice to meet you Anuj! It's great to hear that you're interested in AGENTIC AI. What would you like to know or discuss about AGENTIC AI?\", additional_kwargs={}, response_metadata={'token_usage': {'completion_tokens': 35, 'prompt_tokens': 4727, 'total_tokens': 4762, 'completion_time': 0.281373316, 'prompt_time': 0.181938993, 'queue_time': -0.399826083, 'total_time': 0.463312309}, 'model_name': 'llama3-70b-8192', 'system_fingerprint': 'fp_dd4ae1c591', 'finish_reason': 'stop', 'logprobs': None}, id='run--8c8a9bd6-0858-4e2e-8db3-e949a2caf310-0', usage_metadata={'input_tokens': 4727, 'output_tokens': 35, 'total_tokens': 4762})]}}\n"
     ]
    }
   ],
   "source": [
    "for chunk in graph_builder.compile().stream({\"messages\":\"I am Anuj and I like AGENTIC AI\"},config,stream_mode=\"updates\"):\n",
    "    print(chunk)"
   ]
  },
  {
   "cell_type": "code",
   "execution_count": 33,
   "id": "0d7b1d08",
   "metadata": {},
   "outputs": [
    {
     "name": "stdout",
     "output_type": "stream",
     "text": [
      "{'messages': [HumanMessage(content='I also like RAGs', additional_kwargs={}, response_metadata={}, id='4144dd37-ba0a-4207-94b1-e1758aefd457')]}\n",
      "{'messages': [HumanMessage(content='I also like RAGs', additional_kwargs={}, response_metadata={}, id='4144dd37-ba0a-4207-94b1-e1758aefd457'), AIMessage(content='', additional_kwargs={'tool_calls': [{'id': 'v4j35jj15', 'function': {'arguments': '{\"exclude_domains\":[],\"include_domains\":[],\"include_images\":false,\"query\":\"RAGs\",\"search_depth\":\"basic\",\"time_range\":null,\"topic\":\"general\"}', 'name': 'tavily_search'}, 'type': 'function'}]}, response_metadata={'token_usage': {'completion_tokens': 83, 'prompt_tokens': 2321, 'total_tokens': 2404, 'completion_time': 0.356005883, 'prompt_time': 0.090653843, 'queue_time': 0.061679376999999994, 'total_time': 0.446659726}, 'model_name': 'llama3-70b-8192', 'system_fingerprint': 'fp_dd4ae1c591', 'finish_reason': 'tool_calls', 'logprobs': None}, id='run--18b2c333-faba-4034-949e-a84171d52056-0', tool_calls=[{'name': 'tavily_search', 'args': {'exclude_domains': [], 'include_domains': [], 'include_images': False, 'query': 'RAGs', 'search_depth': 'basic', 'time_range': None, 'topic': 'general'}, 'id': 'v4j35jj15', 'type': 'tool_call'}], usage_metadata={'input_tokens': 2321, 'output_tokens': 83, 'total_tokens': 2404})]}\n",
      "{'messages': [HumanMessage(content='I also like RAGs', additional_kwargs={}, response_metadata={}, id='4144dd37-ba0a-4207-94b1-e1758aefd457'), AIMessage(content='', additional_kwargs={'tool_calls': [{'id': 'v4j35jj15', 'function': {'arguments': '{\"exclude_domains\":[],\"include_domains\":[],\"include_images\":false,\"query\":\"RAGs\",\"search_depth\":\"basic\",\"time_range\":null,\"topic\":\"general\"}', 'name': 'tavily_search'}, 'type': 'function'}]}, response_metadata={'token_usage': {'completion_tokens': 83, 'prompt_tokens': 2321, 'total_tokens': 2404, 'completion_time': 0.356005883, 'prompt_time': 0.090653843, 'queue_time': 0.061679376999999994, 'total_time': 0.446659726}, 'model_name': 'llama3-70b-8192', 'system_fingerprint': 'fp_dd4ae1c591', 'finish_reason': 'tool_calls', 'logprobs': None}, id='run--18b2c333-faba-4034-949e-a84171d52056-0', tool_calls=[{'name': 'tavily_search', 'args': {'exclude_domains': [], 'include_domains': [], 'include_images': False, 'query': 'RAGs', 'search_depth': 'basic', 'time_range': None, 'topic': 'general'}, 'id': 'v4j35jj15', 'type': 'tool_call'}], usage_metadata={'input_tokens': 2321, 'output_tokens': 83, 'total_tokens': 2404}), ToolMessage(content='{\"query\": \"RAGs\", \"follow_up_questions\": null, \"answer\": null, \"images\": [], \"results\": [{\"title\": \"All Rags - Affordable Wiping Rags, Wholesale Bulk Rags\", \"url\": \"https://allrags.com/\", \"content\": \"All Rags sells durable, absorbent wiping cloths for various industries and purposes. Find cotton, terry, microfiber, paper, and disposable rags in different sizes, colors, and thicknesses.\", \"score\": 0.59372765, \"raw_content\": null}, {\"title\": \"RAGS.com - Kids and Baby Clothes | Rompers, T-Shirts, & More\", \"url\": \"https://rags.com/\", \"content\": \"New to RAGS? Check out our Essentials - premium basics you and your kids will love. shop more Newborn Gift Bundle. Essentials Peekabooty™ Newborn Bundle . $25.00. Newborn Rag in Phantom. Essentials Peekabooty™ Rag Romper . $20.00 $28.00. Teal. Essentials Infant Joggers . $20.00 $28.00. Parisian Blue.\", \"score\": 0.48850358, \"raw_content\": null}], \"response_time\": 1.7}', name='tavily_search', id='26b4602f-0356-4e41-a7b8-6c8855d50aa9', tool_call_id='v4j35jj15')]}\n",
      "{'messages': [HumanMessage(content='I also like RAGs', additional_kwargs={}, response_metadata={}, id='4144dd37-ba0a-4207-94b1-e1758aefd457'), AIMessage(content='', additional_kwargs={'tool_calls': [{'id': 'v4j35jj15', 'function': {'arguments': '{\"exclude_domains\":[],\"include_domains\":[],\"include_images\":false,\"query\":\"RAGs\",\"search_depth\":\"basic\",\"time_range\":null,\"topic\":\"general\"}', 'name': 'tavily_search'}, 'type': 'function'}]}, response_metadata={'token_usage': {'completion_tokens': 83, 'prompt_tokens': 2321, 'total_tokens': 2404, 'completion_time': 0.356005883, 'prompt_time': 0.090653843, 'queue_time': 0.061679376999999994, 'total_time': 0.446659726}, 'model_name': 'llama3-70b-8192', 'system_fingerprint': 'fp_dd4ae1c591', 'finish_reason': 'tool_calls', 'logprobs': None}, id='run--18b2c333-faba-4034-949e-a84171d52056-0', tool_calls=[{'name': 'tavily_search', 'args': {'exclude_domains': [], 'include_domains': [], 'include_images': False, 'query': 'RAGs', 'search_depth': 'basic', 'time_range': None, 'topic': 'general'}, 'id': 'v4j35jj15', 'type': 'tool_call'}], usage_metadata={'input_tokens': 2321, 'output_tokens': 83, 'total_tokens': 2404}), ToolMessage(content='{\"query\": \"RAGs\", \"follow_up_questions\": null, \"answer\": null, \"images\": [], \"results\": [{\"title\": \"All Rags - Affordable Wiping Rags, Wholesale Bulk Rags\", \"url\": \"https://allrags.com/\", \"content\": \"All Rags sells durable, absorbent wiping cloths for various industries and purposes. Find cotton, terry, microfiber, paper, and disposable rags in different sizes, colors, and thicknesses.\", \"score\": 0.59372765, \"raw_content\": null}, {\"title\": \"RAGS.com - Kids and Baby Clothes | Rompers, T-Shirts, & More\", \"url\": \"https://rags.com/\", \"content\": \"New to RAGS? Check out our Essentials - premium basics you and your kids will love. shop more Newborn Gift Bundle. Essentials Peekabooty™ Newborn Bundle . $25.00. Newborn Rag in Phantom. Essentials Peekabooty™ Rag Romper . $20.00 $28.00. Teal. Essentials Infant Joggers . $20.00 $28.00. Parisian Blue.\", \"score\": 0.48850358, \"raw_content\": null}], \"response_time\": 1.7}', name='tavily_search', id='26b4602f-0356-4e41-a7b8-6c8855d50aa9', tool_call_id='v4j35jj15'), AIMessage(content='It seems like the tool call yielded some search results related to RAGs. Would you like me to help you understand or summarize these results?', additional_kwargs={}, response_metadata={'token_usage': {'completion_tokens': 30, 'prompt_tokens': 2688, 'total_tokens': 2718, 'completion_time': 0.198592183, 'prompt_time': 0.101179123, 'queue_time': 0.05546730600000001, 'total_time': 0.299771306}, 'model_name': 'llama3-70b-8192', 'system_fingerprint': 'fp_dd4ae1c591', 'finish_reason': 'stop', 'logprobs': None}, id='run--cb121bbf-8139-4403-b6f4-8f9771debadc-0', usage_metadata={'input_tokens': 2688, 'output_tokens': 30, 'total_tokens': 2718})]}\n"
     ]
    }
   ],
   "source": [
    "for chunk in graph_builder.compile().stream({\"messages\":\"I also like RAGs\"},config,stream_mode=\"values\"):\n",
    "    print(chunk)"
   ]
  },
  {
   "cell_type": "markdown",
   "id": "e43a6b44",
   "metadata": {},
   "source": [
    "### Build a very basic graph to test stream"
   ]
  },
  {
   "cell_type": "code",
   "execution_count": 35,
   "id": "7cace1d8",
   "metadata": {},
   "outputs": [],
   "source": [
    "def superbot(state:State):\n",
    "    return {\"messages\":[llm.invoke(state[\"messages\"])]}"
   ]
  },
  {
   "cell_type": "code",
   "execution_count": 40,
   "id": "eaacbada",
   "metadata": {},
   "outputs": [],
   "source": [
    "graph_b = StateGraph(State)\n",
    "graph_b.add_node(\"SuperBot\",superbot)\n",
    "graph_b.add_edge(START,\"SuperBot\")\n",
    "graph_b.add_edge(\"SuperBot\",END)\n",
    "graph_test = graph_b.compile(checkpointer=memory)"
   ]
  },
  {
   "cell_type": "code",
   "execution_count": 41,
   "id": "aedded09",
   "metadata": {},
   "outputs": [
    {
     "data": {
      "image/png": "[encoded data removed]",
      "text/plain": [
       "<IPython.core.display.Image object>"
      ]
     },
     "metadata": {},
     "output_type": "display_data"
    }
   ],
   "source": [
    "from IPython.display import Image,display\n",
    "display(Image(graph_test.get_graph().draw_mermaid_png()))"
   ]
  },
  {
   "cell_type": "code",
   "execution_count": 45,
   "id": "8fad6d58",
   "metadata": {},
   "outputs": [
    {
     "name": "stdout",
     "output_type": "stream",
     "text": [
      "[{'SuperBot': {'messages': [AIMessage(content='Your name is Anuj!', additional_kwargs={}, response_metadata={'token_usage': {'completion_tokens': 7, 'prompt_tokens': 79, 'total_tokens': 86, 'completion_time': 0.03045121, 'prompt_time': 0.002145206, 'queue_time': 0.052104974, 'total_time': 0.032596416}, 'model_name': 'llama3-70b-8192', 'system_fingerprint': 'fp_dd4ae1c591', 'finish_reason': 'stop', 'logprobs': None}, id='run--e5a6400b-0a82-4201-a20f-80d1f2e9b33c-0', usage_metadata={'input_tokens': 79, 'output_tokens': 7, 'total_tokens': 86})]}}]\n"
     ]
    }
   ],
   "source": [
    "config = {\"configurable\":{\"thread_id\":\"8\"}}\n",
    "response = graph_test.invoke({\"messages\":\"What is my name\"},config=config,stream_mode=\"updates\")\n",
    "print(response)"
   ]
  },
  {
   "cell_type": "code",
   "execution_count": 46,
   "id": "4d2d5a2e",
   "metadata": {},
   "outputs": [
    {
     "name": "stdout",
     "output_type": "stream",
     "text": [
      "[{'SuperBot': {'messages': [AIMessage(content='Here\\'s one:\\n\\n\"Believe you can and you\\'re halfway there.\" - Anuj', additional_kwargs={}, response_metadata={'token_usage': {'completion_tokens': 19, 'prompt_tokens': 101, 'total_tokens': 120, 'completion_time': 0.054285714, 'prompt_time': 0.002902065, 'queue_time': 0.053055174999999996, 'total_time': 0.057187779}, 'model_name': 'llama3-70b-8192', 'system_fingerprint': 'fp_dd4ae1c591', 'finish_reason': 'stop', 'logprobs': None}, id='run--cde2afe7-3947-4e1a-a0f0-70f66dffb83e-0', usage_metadata={'input_tokens': 101, 'output_tokens': 19, 'total_tokens': 120})]}}]\n"
     ]
    }
   ],
   "source": [
    "response = graph_test.invoke({\"messages\":\"Say a quote with my name\"},config=config,stream_mode=\"updates\")\n",
    "print(response)"
   ]
  },
  {
   "cell_type": "code",
   "execution_count": 47,
   "id": "f8b8840b",
   "metadata": {},
   "outputs": [
    {
     "name": "stdout",
     "output_type": "stream",
     "text": [
      "{'messages': [HumanMessage(content='Hello My name is Anuj', additional_kwargs={}, response_metadata={}, id='2c46aa2d-cfca-4819-a70a-08f9d5645c21'), AIMessage(content=\"Hello Anuj! It's nice to meet you. Is there something I can help you with or would you like to chat?\", additional_kwargs={}, response_metadata={'token_usage': {'completion_tokens': 27, 'prompt_tokens': 16, 'total_tokens': 43, 'completion_time': 0.077142857, 'prompt_time': 0.000210536, 'queue_time': 0.052120155, 'total_time': 0.077353393}, 'model_name': 'llama3-70b-8192', 'system_fingerprint': 'fp_dd4ae1c591', 'finish_reason': 'stop', 'logprobs': None}, id='run--57546ccc-2673-4975-9ffd-28c2df3e1c8e-0', usage_metadata={'input_tokens': 16, 'output_tokens': 27, 'total_tokens': 43}), HumanMessage(content='What is my name', additional_kwargs={}, response_metadata={}, id='ee65e436-8db2-4b64-9a26-5eac37c74d75'), AIMessage(content='I remember! Your name is Anuj!', additional_kwargs={}, response_metadata={'token_usage': {'completion_tokens': 10, 'prompt_tokens': 56, 'total_tokens': 66, 'completion_time': 0.040162831, 'prompt_time': 0.001399128, 'queue_time': 0.052115092, 'total_time': 0.041561959}, 'model_name': 'llama3-70b-8192', 'system_fingerprint': 'fp_dd4ae1c591', 'finish_reason': 'stop', 'logprobs': None}, id='run--d35bcfa6-cefe-49e1-bb7b-95dae1ee753c-0', usage_metadata={'input_tokens': 56, 'output_tokens': 10, 'total_tokens': 66}), HumanMessage(content='What is my name', additional_kwargs={}, response_metadata={}, id='d7dcc67f-170a-4adf-b9f7-daadc97739f5'), AIMessage(content='Your name is Anuj!', additional_kwargs={}, response_metadata={'token_usage': {'completion_tokens': 7, 'prompt_tokens': 79, 'total_tokens': 86, 'completion_time': 0.03045121, 'prompt_time': 0.002145206, 'queue_time': 0.052104974, 'total_time': 0.032596416}, 'model_name': 'llama3-70b-8192', 'system_fingerprint': 'fp_dd4ae1c591', 'finish_reason': 'stop', 'logprobs': None}, id='run--e5a6400b-0a82-4201-a20f-80d1f2e9b33c-0', usage_metadata={'input_tokens': 79, 'output_tokens': 7, 'total_tokens': 86}), HumanMessage(content='Say a quote with my name', additional_kwargs={}, response_metadata={}, id='da2590e4-069d-4674-89f0-9a03e89893bf'), AIMessage(content='Here\\'s one:\\n\\n\"Believe you can and you\\'re halfway there.\" - Anuj', additional_kwargs={}, response_metadata={'token_usage': {'completion_tokens': 19, 'prompt_tokens': 101, 'total_tokens': 120, 'completion_time': 0.054285714, 'prompt_time': 0.002902065, 'queue_time': 0.053055174999999996, 'total_time': 0.057187779}, 'model_name': 'llama3-70b-8192', 'system_fingerprint': 'fp_dd4ae1c591', 'finish_reason': 'stop', 'logprobs': None}, id='run--cde2afe7-3947-4e1a-a0f0-70f66dffb83e-0', usage_metadata={'input_tokens': 101, 'output_tokens': 19, 'total_tokens': 120}), HumanMessage(content='Which model are you', additional_kwargs={}, response_metadata={}, id='b9b78a7f-6aad-4a2d-b727-a4c3650006a5'), AIMessage(content=\"I am LLaMA, an AI assistant developed by Meta AI that can understand and respond to human input in a conversational manner. I'm a large language model, trained on a massive dataset of text from the internet, and I can generate human-like responses to a wide range of topics and questions. I'm constantly learning and improving, so please bear with me if I make any mistakes!\", additional_kwargs={}, response_metadata={'token_usage': {'completion_tokens': 80, 'prompt_tokens': 133, 'total_tokens': 213, 'completion_time': 0.256653784, 'prompt_time': 0.003948289, 'queue_time': 0.061653466999999997, 'total_time': 0.260602073}, 'model_name': 'llama3-70b-8192', 'system_fingerprint': 'fp_dd4ae1c591', 'finish_reason': 'stop', 'logprobs': None}, id='run--07d0a01b-2742-46fb-92d1-c7cfcf7c7344-0', usage_metadata={'input_tokens': 133, 'output_tokens': 80, 'total_tokens': 213})]}\n"
     ]
    }
   ],
   "source": [
    "response = graph_test.invoke({\"messages\":\"Which model are you\"},config=config,stream_mode=\"values\")\n",
    "print(response)"
   ]
  },
  {
   "cell_type": "code",
   "execution_count": 49,
   "id": "1ea05202",
   "metadata": {},
   "outputs": [
    {
     "name": "stdout",
     "output_type": "stream",
     "text": [
      "{'tool_calling_llm': {'messages': [AIMessage(content=\"That's great! Cricket is an amazing sport. Do you play as a batsman, bowler, or an all-rounder?\", additional_kwargs={}, response_metadata={'token_usage': {'completion_tokens': 29, 'prompt_tokens': 2561, 'total_tokens': 2590, 'completion_time': 0.237397208, 'prompt_time': 0.100914085, 'queue_time': 0.058361077, 'total_time': 0.338311293}, 'model_name': 'llama3-70b-8192', 'system_fingerprint': 'fp_dd4ae1c591', 'finish_reason': 'stop', 'logprobs': None}, id='run--cf89addb-224b-41d7-b8b2-529aea477ea0-0', usage_metadata={'input_tokens': 2561, 'output_tokens': 29, 'total_tokens': 2590})]}}\n"
     ]
    }
   ],
   "source": [
    "for chunk in graph.stream({\"messages\":\"I love playing cricket\"},config=config,stream_mode=\"updates\"):\n",
    "    print(chunk)"
   ]
  },
  {
   "cell_type": "code",
   "execution_count": 50,
   "id": "0fd8da1e",
   "metadata": {},
   "outputs": [
    {
     "name": "stdout",
     "output_type": "stream",
     "text": [
      "{'messages': [HumanMessage(content='I love playing cricket', additional_kwargs={}, response_metadata={}, id='51f58b34-7f36-4209-8fb1-341a4d5eaa67')]}\n",
      "{'messages': [HumanMessage(content='I love playing cricket', additional_kwargs={}, response_metadata={}, id='51f58b34-7f36-4209-8fb1-341a4d5eaa67'), AIMessage(content=\"That's great! Cricket is an amazing sport! What do you love most about playing cricket? Is it the thrill of hitting a six, the excitement of taking a wicket, or the camaraderie with your teammates?\\n\\nDo you play cricket regularly, or is it more of a casual hobby for you? Have you ever played in a tournament or a league, or is it more of a friendly match with friends?\\n\\nAlso, do you have a favorite cricket team or player?\", additional_kwargs={}, response_metadata={'token_usage': {'completion_tokens': 97, 'prompt_tokens': 14, 'total_tokens': 111, 'completion_time': 0.277142857, 'prompt_time': 0.000212117, 'queue_time': 0.053563724, 'total_time': 0.277354974}, 'model_name': 'llama3-70b-8192', 'system_fingerprint': 'fp_dd4ae1c591', 'finish_reason': 'stop', 'logprobs': None}, id='run--78ef023c-ba96-42af-8b5b-a7ac114e100b-0', usage_metadata={'input_tokens': 14, 'output_tokens': 97, 'total_tokens': 111})]}\n"
     ]
    }
   ],
   "source": [
    "config = {\"configurable\":{\"thread_id\":\"10\"}}\n",
    "for chunk in graph_test.stream({\"messages\":\"I love playing cricket\"},config,stream_mode=\"values\"):\n",
    "    print(chunk)"
   ]
  },
  {
   "cell_type": "code",
   "execution_count": null,
   "id": "7b7440ee",
   "metadata": {},
   "outputs": [],
   "source": []
  }
 ],
 "metadata": {
  "kernelspec": {
   "display_name": "base",
   "language": "python",
   "name": "python3"
  },
  "language_info": {
   "codemirror_mode": {
    "name": "ipython",
    "version": 3
   },
   "file_extension": ".py",
   "mimetype": "text/x-python",
   "name": "python",
   "nbconvert_exporter": "python",
   "pygments_lexer": "ipython3",
   "version": "3.12.7"
  }
 },
 "nbformat": 4,
 "nbformat_minor": 5
}
