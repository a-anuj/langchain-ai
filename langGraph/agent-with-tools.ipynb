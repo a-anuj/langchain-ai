{
 "cells": [
  {
   "cell_type": "code",
   "execution_count": 41,
   "id": "b2c26288",
   "metadata": {},
   "outputs": [],
   "source": [
    "from typing import Annotated\n",
    "from typing_extensions import TypedDict\n",
    "from langchain_core.messages import HumanMessage \n",
    "from langgraph.graph import StateGraph,START,END\n",
    "from langgraph.graph.message import add_messages\n",
    "from langchain_groq import ChatGroq\n",
    "from langgraph.prebuilt import ToolNode,tools_condition\n"
   ]
  },
  {
   "cell_type": "code",
   "execution_count": 42,
   "id": "350c5935",
   "metadata": {},
   "outputs": [],
   "source": [
    "class State(TypedDict):\n",
    "    messages : Annotated[list,add_messages]"
   ]
  },
  {
   "cell_type": "code",
   "execution_count": 43,
   "id": "862d1fd5",
   "metadata": {},
   "outputs": [
    {
     "data": {
      "text/plain": [
       "True"
      ]
     },
     "execution_count": 43,
     "metadata": {},
     "output_type": "execute_result"
    }
   ],
   "source": [
    "import os\n",
    "from dotenv import load_dotenv\n",
    "load_dotenv()"
   ]
  },
  {
   "cell_type": "code",
   "execution_count": 44,
   "id": "625cfe77",
   "metadata": {},
   "outputs": [],
   "source": [
    "api_key = os.getenv(\"GROQ_API_KEY\")\n",
    "llm = ChatGroq(model=\"llama3-70b-8192\")"
   ]
  },
  {
   "cell_type": "code",
   "execution_count": 45,
   "id": "d84be108",
   "metadata": {},
   "outputs": [
    {
     "data": {
      "text/plain": [
       "{'query': 'Who is the Indian Prime Minister',\n",
       " 'follow_up_questions': None,\n",
       " 'answer': None,\n",
       " 'images': [],\n",
       " 'results': [{'title': 'Know the PM - Prime Minister of India',\n",
       "   'url': 'https://www.pmindia.gov.in/en/pms-profile/',\n",
       "   'content': 'Image 9: PM IndiaShri Narendra Modi was sworn-in as India’s Prime Minister for the third time on 9th June 2024, following another decisive victory in the 2024 Parliamentary elections. The first ever Prime Minister to be born after Independence, Shri Modi has previously served as the Prime Minister of India from 2014 to 2019, and from 2019 to 2024. Leading international agencies have noted that under the leadership of PM Narendra Modi, India has been eliminating poverty at record pace. Shri Modi believes that no Indian should be homeless and to realise this vision, over 4.2 crore houses were sanctionedunder the PM Awas Yojana between 2014 and 2024. PM Modi launched the ‘Make in India’ initiative to turn India into an international manufacturing powerhouse.',\n",
       "   'score': 0.8773195,\n",
       "   'raw_content': None},\n",
       "  {'title': 'List of All Prime Ministers of India (1947-2025) - Jagran Josh',\n",
       "   'url': 'https://www.jagranjosh.com/general-knowledge/list-of-all-prime-ministers-of-india-1473165149-1',\n",
       "   'content': 'List of All Prime Ministers of India (1947-2025) Check the list of all Prime Ministers of India from 1947 to 2025, including their terms, ages, and durations. *   ,%20To%20know%20more%20click%20the%20link%20-https://www.jagranjosh.com/general-knowledge/list-of-all-prime-ministers-of-india-1473165149-1 \"whatsapp\") **List of all Prime Ministers of India:**Did you know that Jawaharlal Nehru, India’s first Prime Minister, served for 17 years, the longest by any PM? **List of all the Prime Ministers of India from 1947-2025** India has been governed by 14 prime ministers over the years. Here is the List of Prime Ministers of India from 1947-2025: He was the first Prime Minister of India and holds the record for the longest tenure, with 16 years and 286 days in office. *   Who is the current Prime Minister of India?',\n",
       "   'score': 0.6693348,\n",
       "   'raw_content': None}],\n",
       " 'response_time': 2.03}"
      ]
     },
     "execution_count": 45,
     "metadata": {},
     "output_type": "execute_result"
    }
   ],
   "source": [
    "api_key_tavily = os.getenv(\"TAVILY_API_KEY\")\n",
    "from langchain_tavily import TavilySearch\n",
    "tool = TavilySearch(max_results=2)\n",
    "tools = [tool]\n",
    "tool.invoke(\"Who is the Indian Prime Minister\")"
   ]
  },
  {
   "cell_type": "code",
   "execution_count": 46,
   "id": "7df01d12",
   "metadata": {},
   "outputs": [],
   "source": [
    "def multiply(a:int,b:int) -> int:\n",
    "    \"\"\"Multiply a and b\n",
    "\n",
    "    Args:\n",
    "        a (int) : first int\n",
    "        b (int) : second int\n",
    "    \n",
    "    Returns:\n",
    "        int : output int    \n",
    "    \"\"\"\n",
    "    return a*b"
   ]
  },
  {
   "cell_type": "code",
   "execution_count": 47,
   "id": "3015202d",
   "metadata": {},
   "outputs": [
    {
     "data": {
      "text/plain": [
       "[TavilySearch(max_results=2, api_wrapper=TavilySearchAPIWrapper(tavily_api_key=SecretStr('**********'))),\n",
       " <function __main__.multiply(a: int, b: int) -> int>]"
      ]
     },
     "execution_count": 47,
     "metadata": {},
     "output_type": "execute_result"
    }
   ],
   "source": [
    "tools = [tool,multiply]\n",
    "tools"
   ]
  },
  {
   "cell_type": "code",
   "execution_count": 48,
   "id": "99b5d9f9",
   "metadata": {},
   "outputs": [],
   "source": [
    "llm_with_tools = llm.bind_tools(tools)"
   ]
  },
  {
   "cell_type": "code",
   "execution_count": 49,
   "id": "24366e42",
   "metadata": {},
   "outputs": [
    {
     "data": {
      "text/plain": [
       "RunnableBinding(bound=ChatGroq(client=<groq.resources.chat.completions.Completions object at 0x7a97c151eea0>, async_client=<groq.resources.chat.completions.AsyncCompletions object at 0x7a97c15427e0>, model_name='llama3-70b-8192', model_kwargs={}, groq_api_key=SecretStr('**********')), kwargs={'tools': [{'type': 'function', 'function': {'name': 'tavily_search', 'description': 'A search engine optimized for comprehensive, accurate, and trusted results. Useful for when you need to answer questions about current events. It not only retrieves URLs and snippets, but offers advanced search depths, domain management, time range filters, and image search, this tool delivers real-time, accurate, and citation-backed results.Input should be a search query.', 'parameters': {'properties': {'query': {'description': 'Search query to look up', 'type': 'string'}, 'include_domains': {'anyOf': [{'items': {'type': 'string'}, 'type': 'array'}, {'type': 'null'}], 'default': [], 'description': 'A list of domains to restrict search results to.\\n\\n        Use this parameter when:\\n        1. The user explicitly requests information from specific websites (e.g., \"Find climate data from nasa.gov\")\\n        2. The user mentions an organization or company without specifying the domain (e.g., \"Find information about iPhones from Apple\")\\n\\n        In both cases, you should determine the appropriate domains (e.g., [\"nasa.gov\"] or [\"apple.com\"]) and set this parameter.\\n\\n        Results will ONLY come from the specified domains - no other sources will be included.\\n        Default is None (no domain restriction).\\n        '}, 'exclude_domains': {'anyOf': [{'items': {'type': 'string'}, 'type': 'array'}, {'type': 'null'}], 'default': [], 'description': 'A list of domains to exclude from search results.\\n\\n        Use this parameter when:\\n        1. The user explicitly requests to avoid certain websites (e.g., \"Find information about climate change but not from twitter.com\")\\n        2. The user mentions not wanting results from specific organizations without naming the domain (e.g., \"Find phone reviews but nothing from Apple\")\\n\\n        In both cases, you should determine the appropriate domains to exclude (e.g., [\"twitter.com\"] or [\"apple.com\"]) and set this parameter.\\n\\n        Results will filter out all content from the specified domains.\\n        Default is None (no domain exclusion).\\n        '}, 'search_depth': {'anyOf': [{'enum': ['basic', 'advanced'], 'type': 'string'}, {'type': 'null'}], 'default': 'basic', 'description': 'Controls search thoroughness and result comprehensiveness.\\n    \\n        Use \"basic\" for simple queries requiring quick, straightforward answers.\\n        \\n        Use \"advanced\" (default) for complex queries, specialized topics, \\n        rare information, or when in-depth analysis is needed.\\n        '}, 'include_images': {'anyOf': [{'type': 'boolean'}, {'type': 'null'}], 'default': False, 'description': 'Determines if the search returns relevant images along with text results.\\n   \\n        Set to True when the user explicitly requests visuals or when images would \\n        significantly enhance understanding (e.g., \"Show me what black holes look like,\" \\n        \"Find pictures of Renaissance art\").\\n        \\n        Leave as False (default) for most informational queries where text is sufficient.\\n        '}, 'time_range': {'anyOf': [{'enum': ['day', 'week', 'month', 'year'], 'type': 'string'}, {'type': 'null'}], 'default': None, 'description': 'Limits results to content published within a specific timeframe.\\n        \\n        ONLY set this when the user explicitly mentions a time period \\n        (e.g., \"latest AI news,\" \"articles from last week\").\\n        \\n        For less popular or niche topics, use broader time ranges \\n        (\"month\" or \"year\") to ensure sufficient relevant results.\\n   \\n        Options: \"day\" (24h), \"week\" (7d), \"month\" (30d), \"year\" (365d).\\n        \\n        Default is None.\\n        '}, 'topic': {'anyOf': [{'enum': ['general', 'news', 'finance'], 'type': 'string'}, {'type': 'null'}], 'default': 'general', 'description': 'Specifies search category for optimized results.\\n   \\n        Use \"general\" (default) for most queries, INCLUDING those with terms like \\n        \"latest,\" \"newest,\" or \"recent\" when referring to general information.\\n\\n        Use \"finance\" for markets, investments, economic data, or financial news.\\n\\n        Use \"news\" ONLY for politics, sports, or major current events covered by \\n        mainstream media - NOT simply because a query asks for \"new\" information.\\n        '}}, 'required': ['query'], 'type': 'object'}}}, {'type': 'function', 'function': {'name': 'multiply', 'description': 'Multiply a and b', 'parameters': {'properties': {'a': {'description': 'first int', 'type': 'integer'}, 'b': {'description': 'second int', 'type': 'integer'}}, 'required': ['a', 'b'], 'type': 'object'}}}]}, config={}, config_factories=[])"
      ]
     },
     "execution_count": 49,
     "metadata": {},
     "output_type": "execute_result"
    }
   ],
   "source": [
    "llm_with_tools"
   ]
  },
  {
   "cell_type": "code",
   "execution_count": 50,
   "id": "9d1d71df",
   "metadata": {},
   "outputs": [],
   "source": [
    "class State(TypedDict):\n",
    "    messages:Annotated[list,add_messages]\n",
    "\n",
    "graph_builder = StateGraph(State)"
   ]
  },
  {
   "cell_type": "code",
   "execution_count": 51,
   "id": "2ff0934b",
   "metadata": {},
   "outputs": [],
   "source": [
    "def tool_calling_llm(state:State):\n",
    "    return {\"messages\":[llm_with_tools.invoke(state[\"messages\"])]}"
   ]
  },
  {
   "cell_type": "code",
   "execution_count": 52,
   "id": "facc4560",
   "metadata": {},
   "outputs": [
    {
     "data": {
      "text/plain": [
       "<langgraph.graph.state.StateGraph at 0x7a97c1542b10>"
      ]
     },
     "execution_count": 52,
     "metadata": {},
     "output_type": "execute_result"
    }
   ],
   "source": [
    "graph_builder.add_node(\"tool_calling_llm\",tool_calling_llm)\n",
    "graph_builder.add_node(\"tools\",ToolNode(tools))"
   ]
  },
  {
   "cell_type": "code",
   "execution_count": 53,
   "id": "5534322e",
   "metadata": {},
   "outputs": [
    {
     "data": {
      "text/plain": [
       "<langgraph.graph.state.StateGraph at 0x7a97c1542b10>"
      ]
     },
     "execution_count": 53,
     "metadata": {},
     "output_type": "execute_result"
    }
   ],
   "source": [
    "graph_builder.add_edge(START,\"tool_calling_llm\")\n",
    "graph_builder.add_conditional_edges(\n",
    "    \"tool_calling_llm\",\n",
    "    tools_condition\n",
    ")\n",
    "graph_builder.add_edge(\"tools\",END)\n"
   ]
  },
  {
   "cell_type": "code",
   "execution_count": 54,
   "id": "20fcd596",
   "metadata": {},
   "outputs": [],
   "source": [
    "graph = graph_builder.compile()"
   ]
  },
  {
   "cell_type": "code",
   "execution_count": 55,
   "id": "fd0ad5fd",
   "metadata": {},
   "outputs": [
    {
     "data": {
      "image/png": "[encoded data removed]",
      "text/plain": [
       "<IPython.core.display.Image object>"
      ]
     },
     "metadata": {},
     "output_type": "display_data"
    }
   ],
   "source": [
    "from IPython.display import Image,display\n",
    "display(Image(graph.get_graph().draw_mermaid_png()))"
   ]
  },
  {
   "cell_type": "code",
   "execution_count": 56,
   "id": "f0d1feb1",
   "metadata": {},
   "outputs": [],
   "source": [
    "response = graph.invoke({\"messages\":\"What is the recent AI news\"})"
   ]
  },
  {
   "cell_type": "code",
   "execution_count": 57,
   "id": "87d0a721",
   "metadata": {},
   "outputs": [
    {
     "data": {
      "text/plain": [
       "[HumanMessage(content='What is the recent AI news', additional_kwargs={}, response_metadata={}, id='08c7ddf4-8b18-459f-93b3-52ec5807981f'),\n",
       " AIMessage(content='', additional_kwargs={'tool_calls': [{'id': 'qenz62td1', 'function': {'arguments': '{\"include_images\":false,\"query\":\"recent AI news\",\"search_depth\":\"advanced\",\"time_range\":\"week\",\"topic\":\"news\"}', 'name': 'tavily_search'}, 'type': 'function'}]}, response_metadata={'token_usage': {'completion_tokens': 73, 'prompt_tokens': 2194, 'total_tokens': 2267, 'completion_time': 0.25895588, 'prompt_time': 0.085388309, 'queue_time': 0.05816655100000001, 'total_time': 0.344344189}, 'model_name': 'llama3-70b-8192', 'system_fingerprint': 'fp_dd4ae1c591', 'finish_reason': 'tool_calls', 'logprobs': None}, id='run--24743514-7322-497e-929d-215fb77a1008-0', tool_calls=[{'name': 'tavily_search', 'args': {'include_images': False, 'query': 'recent AI news', 'search_depth': 'advanced', 'time_range': 'week', 'topic': 'news'}, 'id': 'qenz62td1', 'type': 'tool_call'}], usage_metadata={'input_tokens': 2194, 'output_tokens': 73, 'total_tokens': 2267}),\n",
       " ToolMessage(content='{\"query\": \"recent AI news\", \"follow_up_questions\": null, \"answer\": null, \"images\": [], \"results\": [{\"url\": \"https://www.newsweek.com/nw-ai/ai-impact-awards-2025-science-engineering-2084754\", \"title\": \"AI Impact Awards 2025: The Changing Human Role in Science and Engineering - Newsweek\", \"score\": 0.7251239, \"published_date\": \"Wed, 25 Jun 2025 10:02:01 GMT\", \"content\": \"Newsweek _\\\\\\\\_will continue the conversation on meaningful AI innovations at our AI Impact Summit from June 23 to 25 in Sonoma, California. Click here to follow along on the live blog.\\\\\\\\__\\\\n\\\\nRequest Reprint & LicensingSubmit CorrectionView Editorial Guidelines\\\\n\\\\nSHARE:xfacebooklinkedinredditemailwhatsappCopy & Share\\\\n\\\\n✓ Link copied to clipboard!\\\\n\\\\nThe Latest in AI\\\\n----------------\\\\n\\\\nNEWSWEEK.AI\\\\n\\\\n06.09.25\\\\n\\\\n### Generative AI\\'s Mission to Explore Strange New Worlds [...] ### AI Will Connect Mercedes-Benz Places Residents to the World\\\\n\\\\nThe new Miami condo complex will have state-of-the-art technology.\\\\n\\\\nArtificial Intelligence Miami\\\\n\\\\nNEWS\\\\n\\\\n06.04.25\\\\n\\\\n### Reddit Sues AI Provider for Breach of Contract\\\\n\\\\nThe AI start up Anthropic has allegedly engaged in \\\\\"unlawful and unfair business acts.\\\\\"\\\\n\\\\nReddit AI\\\\n\\\\nTECHNOLOGY\\\\n\\\\n06.02.25\\\\n\\\\n### Could AI Save Small Businesses? Mindbody Makes a Case to Wellness Brands\", \"raw_content\": null}, {\"url\": \"https://www.biotechniques.com/computational-biology/slaseurope2025_evolving-ai-the-age-of-small-data-llms-and-privacy-preserving-computations/\", \"title\": \"Evolving AI: the age of small data, LLMs and privacy-preserving computations - BioTechniques\", \"score\": 0.68748367, \"published_date\": \"Tue, 24 Jun 2025 11:16:54 GMT\", \"content\": \"#### Filtering out unreliable COVID-19 research\\\\n\\\\nImage 7\\\\n\\\\n15 JUL 2022LAB DESIGN AND MACHINERY\\\\n\\\\n#### Automating ultrasound scanning\\\\n\\\\nImage 8\\\\n\\\\n7 SEP 2018CANCER RESEARCH\\\\n\\\\n#### Artificial intelligence turns its attention to cancer\\\\n\\\\nImage 9\\\\n\\\\n23 DEC 2019LAB DESIGN AND MACHINERY\\\\n\\\\n#### Anne Carpenter on artificial intelligence in the cell imaging field\\\\n\\\\nImage 10: AI automation aiforia\\\\n\\\\n1 JUL 2020NEWS\\\\n\\\\n#### AI is here to supercharge pathologists, not replace them\\\\n\\\\nImage 11\", \"raw_content\": null}], \"response_time\": 1.51}', name='tavily_search', id='e1e7899e-f370-4e6e-89a8-4f5c240914b2', tool_call_id='qenz62td1')]"
      ]
     },
     "execution_count": 57,
     "metadata": {},
     "output_type": "execute_result"
    }
   ],
   "source": [
    "response[\"messages\"]"
   ]
  },
  {
   "cell_type": "code",
   "execution_count": 58,
   "id": "1e5206ab",
   "metadata": {},
   "outputs": [
    {
     "name": "stdout",
     "output_type": "stream",
     "text": [
      "================================\u001b[1m Human Message \u001b[0m=================================\n",
      "\n",
      "What is the recent AI news\n",
      "==================================\u001b[1m Ai Message \u001b[0m==================================\n",
      "Tool Calls:\n",
      "  tavily_search (qenz62td1)\n",
      " Call ID: qenz62td1\n",
      "  Args:\n",
      "    include_images: False\n",
      "    query: recent AI news\n",
      "    search_depth: advanced\n",
      "    time_range: week\n",
      "    topic: news\n",
      "=================================\u001b[1m Tool Message \u001b[0m=================================\n",
      "Name: tavily_search\n",
      "\n",
      "{\"query\": \"recent AI news\", \"follow_up_questions\": null, \"answer\": null, \"images\": [], \"results\": [{\"url\": \"https://www.newsweek.com/nw-ai/ai-impact-awards-2025-science-engineering-2084754\", \"title\": \"AI Impact Awards 2025: The Changing Human Role in Science and Engineering - Newsweek\", \"score\": 0.7251239, \"published_date\": \"Wed, 25 Jun 2025 10:02:01 GMT\", \"content\": \"Newsweek _\\\\_will continue the conversation on meaningful AI innovations at our AI Impact Summit from June 23 to 25 in Sonoma, California. Click here to follow along on the live blog.\\\\__\\n\\nRequest Reprint & LicensingSubmit CorrectionView Editorial Guidelines\\n\\nSHARE:xfacebooklinkedinredditemailwhatsappCopy & Share\\n\\n✓ Link copied to clipboard!\\n\\nThe Latest in AI\\n----------------\\n\\nNEWSWEEK.AI\\n\\n06.09.25\\n\\n### Generative AI's Mission to Explore Strange New Worlds [...] ### AI Will Connect Mercedes-Benz Places Residents to the World\\n\\nThe new Miami condo complex will have state-of-the-art technology.\\n\\nArtificial Intelligence Miami\\n\\nNEWS\\n\\n06.04.25\\n\\n### Reddit Sues AI Provider for Breach of Contract\\n\\nThe AI start up Anthropic has allegedly engaged in \\\"unlawful and unfair business acts.\\\"\\n\\nReddit AI\\n\\nTECHNOLOGY\\n\\n06.02.25\\n\\n### Could AI Save Small Businesses? Mindbody Makes a Case to Wellness Brands\", \"raw_content\": null}, {\"url\": \"https://www.biotechniques.com/computational-biology/slaseurope2025_evolving-ai-the-age-of-small-data-llms-and-privacy-preserving-computations/\", \"title\": \"Evolving AI: the age of small data, LLMs and privacy-preserving computations - BioTechniques\", \"score\": 0.68748367, \"published_date\": \"Tue, 24 Jun 2025 11:16:54 GMT\", \"content\": \"#### Filtering out unreliable COVID-19 research\\n\\nImage 7\\n\\n15 JUL 2022LAB DESIGN AND MACHINERY\\n\\n#### Automating ultrasound scanning\\n\\nImage 8\\n\\n7 SEP 2018CANCER RESEARCH\\n\\n#### Artificial intelligence turns its attention to cancer\\n\\nImage 9\\n\\n23 DEC 2019LAB DESIGN AND MACHINERY\\n\\n#### Anne Carpenter on artificial intelligence in the cell imaging field\\n\\nImage 10: AI automation aiforia\\n\\n1 JUL 2020NEWS\\n\\n#### AI is here to supercharge pathologists, not replace them\\n\\nImage 11\", \"raw_content\": null}], \"response_time\": 1.51}\n"
     ]
    }
   ],
   "source": [
    "for m in response[\"messages\"]:\n",
    "    m.pretty_print()"
   ]
  },
  {
   "cell_type": "code",
   "execution_count": 59,
   "id": "055f616a",
   "metadata": {},
   "outputs": [],
   "source": [
    "response2 = graph.invoke({\"messages\":\"What is the 5 multiplied by 6\"})"
   ]
  },
  {
   "cell_type": "code",
   "execution_count": 60,
   "id": "035a23e8",
   "metadata": {},
   "outputs": [
    {
     "data": {
      "text/plain": [
       "{'messages': [HumanMessage(content='What is the 5 multiplied by 6', additional_kwargs={}, response_metadata={}, id='583f12db-98f7-4e7b-a1f5-795ee000ff19'),\n",
       "  AIMessage(content='', additional_kwargs={'tool_calls': [{'id': 't9ack1dzj', 'function': {'arguments': '{\"a\":5,\"b\":6}', 'name': 'multiply'}, 'type': 'function'}]}, response_metadata={'token_usage': {'completion_tokens': 48, 'prompt_tokens': 2197, 'total_tokens': 2245, 'completion_time': 0.165913305, 'prompt_time': 0.093228173, 'queue_time': 0.05595350700000001, 'total_time': 0.259141478}, 'model_name': 'llama3-70b-8192', 'system_fingerprint': 'fp_dd4ae1c591', 'finish_reason': 'tool_calls', 'logprobs': None}, id='run--cf5334cb-c1c5-4ea6-8d3b-1bc7755ea8a7-0', tool_calls=[{'name': 'multiply', 'args': {'a': 5, 'b': 6}, 'id': 't9ack1dzj', 'type': 'tool_call'}], usage_metadata={'input_tokens': 2197, 'output_tokens': 48, 'total_tokens': 2245}),\n",
       "  ToolMessage(content='30', name='multiply', id='e2bb823d-1994-4d7a-b89b-17de28ae5daf', tool_call_id='t9ack1dzj')]}"
      ]
     },
     "execution_count": 60,
     "metadata": {},
     "output_type": "execute_result"
    }
   ],
   "source": [
    "response2"
   ]
  },
  {
   "cell_type": "code",
   "execution_count": 61,
   "id": "56c6f251",
   "metadata": {},
   "outputs": [
    {
     "name": "stdout",
     "output_type": "stream",
     "text": [
      "================================\u001b[1m Human Message \u001b[0m=================================\n",
      "\n",
      "What is the 5 multiplied by 6\n",
      "==================================\u001b[1m Ai Message \u001b[0m==================================\n",
      "Tool Calls:\n",
      "  multiply (t9ack1dzj)\n",
      " Call ID: t9ack1dzj\n",
      "  Args:\n",
      "    a: 5\n",
      "    b: 6\n",
      "=================================\u001b[1m Tool Message \u001b[0m=================================\n",
      "Name: multiply\n",
      "\n",
      "30\n"
     ]
    }
   ],
   "source": [
    "for m in response2[\"messages\"]:\n",
    "    m.pretty_print()"
   ]
  },
  {
   "cell_type": "code",
   "execution_count": null,
   "id": "b65e07ca",
   "metadata": {},
   "outputs": [],
   "source": []
  }
 ],
 "metadata": {
  "kernelspec": {
   "display_name": "base",
   "language": "python",
   "name": "python3"
  },
  "language_info": {
   "codemirror_mode": {
    "name": "ipython",
    "version": 3
   },
   "file_extension": ".py",
   "mimetype": "text/x-python",
   "name": "python",
   "nbconvert_exporter": "python",
   "pygments_lexer": "ipython3",
   "version": "3.12.7"
  }
 },
 "nbformat": 4,
 "nbformat_minor": 5
}
