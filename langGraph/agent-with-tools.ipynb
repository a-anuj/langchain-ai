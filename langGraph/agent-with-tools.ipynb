{
 "cells": [
  {
   "cell_type": "code",
   "execution_count": 1,
   "id": "b2c26288",
   "metadata": {},
   "outputs": [],
   "source": [
    "from typing import Annotated\n",
    "from typing_extensions import TypedDict\n",
    "from langchain_core.messages import HumanMessage \n",
    "from langgraph.graph import StateGraph,START,END\n",
    "from langgraph.graph.message import add_messages\n",
    "from langchain_groq import ChatGroq\n",
    "from langgraph.prebuilt import ToolNode,tools_condition\n"
   ]
  },
  {
   "cell_type": "code",
   "execution_count": 2,
   "id": "350c5935",
   "metadata": {},
   "outputs": [],
   "source": [
    "class State(TypedDict):\n",
    "    messages : Annotated[list,add_messages]"
   ]
  },
  {
   "cell_type": "code",
   "execution_count": 3,
   "id": "862d1fd5",
   "metadata": {},
   "outputs": [
    {
     "data": {
      "text/plain": [
       "True"
      ]
     },
     "execution_count": 3,
     "metadata": {},
     "output_type": "execute_result"
    }
   ],
   "source": [
    "import os\n",
    "from dotenv import load_dotenv\n",
    "load_dotenv()"
   ]
  },
  {
   "cell_type": "code",
   "execution_count": 4,
   "id": "625cfe77",
   "metadata": {},
   "outputs": [],
   "source": [
    "api_key = os.getenv(\"GROQ_API_KEY\")\n",
    "llm = ChatGroq(model=\"llama3-70b-8192\")"
   ]
  },
  {
   "cell_type": "code",
   "execution_count": 5,
   "id": "d84be108",
   "metadata": {},
   "outputs": [
    {
     "data": {
      "text/plain": [
       "{'query': 'Who is the Indian Prime Minister',\n",
       " 'follow_up_questions': None,\n",
       " 'answer': None,\n",
       " 'images': [],\n",
       " 'results': [{'title': 'Know the PM - Prime Minister of India',\n",
       "   'url': 'https://www.pmindia.gov.in/en/pms-profile/',\n",
       "   'content': 'Image 9: PM IndiaShri Narendra Modi was sworn-in as India’s Prime Minister for the third time on 9th June 2024, following another decisive victory in the 2024 Parliamentary elections. The first ever Prime Minister to be born after Independence, Shri Modi has previously served as the Prime Minister of India from 2014 to 2019, and from 2019 to 2024. Leading international agencies have noted that under the leadership of PM Narendra Modi, India has been eliminating poverty at record pace. Shri Modi believes that no Indian should be homeless and to realise this vision, over 4.2 crore houses were sanctionedunder the PM Awas Yojana between 2014 and 2024. PM Modi launched the ‘Make in India’ initiative to turn India into an international manufacturing powerhouse.',\n",
       "   'score': 0.8773195,\n",
       "   'raw_content': None},\n",
       "  {'title': 'List of All Prime Ministers of India (1947-2025) - Jagran Josh',\n",
       "   'url': 'https://www.jagranjosh.com/general-knowledge/list-of-all-prime-ministers-of-india-1473165149-1',\n",
       "   'content': 'List of All Prime Ministers of India (1947-2025) Check the list of all Prime Ministers of India from 1947 to 2025, including their terms, ages, and durations. *   ,%20To%20know%20more%20click%20the%20link%20-https://www.jagranjosh.com/general-knowledge/list-of-all-prime-ministers-of-india-1473165149-1 \"whatsapp\") **List of all Prime Ministers of India:**Did you know that Jawaharlal Nehru, India’s first Prime Minister, served for 17 years, the longest by any PM? **List of all the Prime Ministers of India from 1947-2025** India has been governed by 14 prime ministers over the years. Here is the List of Prime Ministers of India from 1947-2025: He was the first Prime Minister of India and holds the record for the longest tenure, with 16 years and 286 days in office. *   Who is the current Prime Minister of India?',\n",
       "   'score': 0.6693348,\n",
       "   'raw_content': None}],\n",
       " 'response_time': 0.89}"
      ]
     },
     "execution_count": 5,
     "metadata": {},
     "output_type": "execute_result"
    }
   ],
   "source": [
    "api_key_tavily = os.getenv(\"TAVILY_API_KEY\")\n",
    "from langchain_tavily import TavilySearch\n",
    "tool = TavilySearch(max_results=2)\n",
    "tools = [tool]\n",
    "tool.invoke(\"Who is the Indian Prime Minister\")"
   ]
  },
  {
   "cell_type": "code",
   "execution_count": 6,
   "id": "7df01d12",
   "metadata": {},
   "outputs": [],
   "source": [
    "def multiply(a:int,b:int) -> int:\n",
    "    \"\"\"Multiply a and b\n",
    "\n",
    "    Args:\n",
    "        a (int) : first int\n",
    "        b (int) : second int\n",
    "    \n",
    "    Returns:\n",
    "        int : output int    \n",
    "    \"\"\"\n",
    "    return a*b"
   ]
  },
  {
   "cell_type": "code",
   "execution_count": 7,
   "id": "3015202d",
   "metadata": {},
   "outputs": [
    {
     "data": {
      "text/plain": [
       "[TavilySearch(max_results=2, api_wrapper=TavilySearchAPIWrapper(tavily_api_key=SecretStr('**********'))),\n",
       " <function __main__.multiply(a: int, b: int) -> int>]"
      ]
     },
     "execution_count": 7,
     "metadata": {},
     "output_type": "execute_result"
    }
   ],
   "source": [
    "tools = [tool,multiply]\n",
    "tools"
   ]
  },
  {
   "cell_type": "code",
   "execution_count": 8,
   "id": "99b5d9f9",
   "metadata": {},
   "outputs": [],
   "source": [
    "llm_with_tools = llm.bind_tools(tools)"
   ]
  },
  {
   "cell_type": "code",
   "execution_count": 9,
   "id": "24366e42",
   "metadata": {},
   "outputs": [
    {
     "data": {
      "text/plain": [
       "RunnableBinding(bound=ChatGroq(client=<groq.resources.chat.completions.Completions object at 0x7e040ac9d760>, async_client=<groq.resources.chat.completions.AsyncCompletions object at 0x7e040ac9f560>, model_name='llama3-70b-8192', model_kwargs={}, groq_api_key=SecretStr('**********')), kwargs={'tools': [{'type': 'function', 'function': {'name': 'tavily_search', 'description': 'A search engine optimized for comprehensive, accurate, and trusted results. Useful for when you need to answer questions about current events. It not only retrieves URLs and snippets, but offers advanced search depths, domain management, time range filters, and image search, this tool delivers real-time, accurate, and citation-backed results.Input should be a search query.', 'parameters': {'properties': {'query': {'description': 'Search query to look up', 'type': 'string'}, 'include_domains': {'anyOf': [{'items': {'type': 'string'}, 'type': 'array'}, {'type': 'null'}], 'default': [], 'description': 'A list of domains to restrict search results to.\\n\\n        Use this parameter when:\\n        1. The user explicitly requests information from specific websites (e.g., \"Find climate data from nasa.gov\")\\n        2. The user mentions an organization or company without specifying the domain (e.g., \"Find information about iPhones from Apple\")\\n\\n        In both cases, you should determine the appropriate domains (e.g., [\"nasa.gov\"] or [\"apple.com\"]) and set this parameter.\\n\\n        Results will ONLY come from the specified domains - no other sources will be included.\\n        Default is None (no domain restriction).\\n        '}, 'exclude_domains': {'anyOf': [{'items': {'type': 'string'}, 'type': 'array'}, {'type': 'null'}], 'default': [], 'description': 'A list of domains to exclude from search results.\\n\\n        Use this parameter when:\\n        1. The user explicitly requests to avoid certain websites (e.g., \"Find information about climate change but not from twitter.com\")\\n        2. The user mentions not wanting results from specific organizations without naming the domain (e.g., \"Find phone reviews but nothing from Apple\")\\n\\n        In both cases, you should determine the appropriate domains to exclude (e.g., [\"twitter.com\"] or [\"apple.com\"]) and set this parameter.\\n\\n        Results will filter out all content from the specified domains.\\n        Default is None (no domain exclusion).\\n        '}, 'search_depth': {'anyOf': [{'enum': ['basic', 'advanced'], 'type': 'string'}, {'type': 'null'}], 'default': 'basic', 'description': 'Controls search thoroughness and result comprehensiveness.\\n    \\n        Use \"basic\" for simple queries requiring quick, straightforward answers.\\n        \\n        Use \"advanced\" (default) for complex queries, specialized topics, \\n        rare information, or when in-depth analysis is needed.\\n        '}, 'include_images': {'anyOf': [{'type': 'boolean'}, {'type': 'null'}], 'default': False, 'description': 'Determines if the search returns relevant images along with text results.\\n   \\n        Set to True when the user explicitly requests visuals or when images would \\n        significantly enhance understanding (e.g., \"Show me what black holes look like,\" \\n        \"Find pictures of Renaissance art\").\\n        \\n        Leave as False (default) for most informational queries where text is sufficient.\\n        '}, 'time_range': {'anyOf': [{'enum': ['day', 'week', 'month', 'year'], 'type': 'string'}, {'type': 'null'}], 'default': None, 'description': 'Limits results to content published within a specific timeframe.\\n        \\n        ONLY set this when the user explicitly mentions a time period \\n        (e.g., \"latest AI news,\" \"articles from last week\").\\n        \\n        For less popular or niche topics, use broader time ranges \\n        (\"month\" or \"year\") to ensure sufficient relevant results.\\n   \\n        Options: \"day\" (24h), \"week\" (7d), \"month\" (30d), \"year\" (365d).\\n        \\n        Default is None.\\n        '}, 'topic': {'anyOf': [{'enum': ['general', 'news', 'finance'], 'type': 'string'}, {'type': 'null'}], 'default': 'general', 'description': 'Specifies search category for optimized results.\\n   \\n        Use \"general\" (default) for most queries, INCLUDING those with terms like \\n        \"latest,\" \"newest,\" or \"recent\" when referring to general information.\\n\\n        Use \"finance\" for markets, investments, economic data, or financial news.\\n\\n        Use \"news\" ONLY for politics, sports, or major current events covered by \\n        mainstream media - NOT simply because a query asks for \"new\" information.\\n        '}}, 'required': ['query'], 'type': 'object'}}}, {'type': 'function', 'function': {'name': 'multiply', 'description': 'Multiply a and b', 'parameters': {'properties': {'a': {'description': 'first int', 'type': 'integer'}, 'b': {'description': 'second int', 'type': 'integer'}}, 'required': ['a', 'b'], 'type': 'object'}}}]}, config={}, config_factories=[])"
      ]
     },
     "execution_count": 9,
     "metadata": {},
     "output_type": "execute_result"
    }
   ],
   "source": [
    "llm_with_tools"
   ]
  },
  {
   "cell_type": "code",
   "execution_count": 10,
   "id": "9d1d71df",
   "metadata": {},
   "outputs": [],
   "source": [
    "class State(TypedDict):\n",
    "    messages:Annotated[list,add_messages]\n",
    "\n",
    "graph_builder = StateGraph(State)"
   ]
  },
  {
   "cell_type": "code",
   "execution_count": 11,
   "id": "2ff0934b",
   "metadata": {},
   "outputs": [],
   "source": [
    "def tool_calling_llm(state:State):\n",
    "    return {\"messages\":[llm_with_tools.invoke(state[\"messages\"])]}"
   ]
  },
  {
   "cell_type": "code",
   "execution_count": 12,
   "id": "facc4560",
   "metadata": {},
   "outputs": [
    {
     "data": {
      "text/plain": [
       "<langgraph.graph.state.StateGraph at 0x7e040a93c170>"
      ]
     },
     "execution_count": 12,
     "metadata": {},
     "output_type": "execute_result"
    }
   ],
   "source": [
    "graph_builder.add_node(\"tool_calling_llm\",tool_calling_llm)\n",
    "graph_builder.add_node(\"tools\",ToolNode(tools))"
   ]
  },
  {
   "cell_type": "code",
   "execution_count": 13,
   "id": "5534322e",
   "metadata": {},
   "outputs": [
    {
     "data": {
      "text/plain": [
       "<langgraph.graph.state.StateGraph at 0x7e040a93c170>"
      ]
     },
     "execution_count": 13,
     "metadata": {},
     "output_type": "execute_result"
    }
   ],
   "source": [
    "graph_builder.add_edge(START,\"tool_calling_llm\")\n",
    "graph_builder.add_conditional_edges(\n",
    "    \"tool_calling_llm\",tools_condition\n",
    ")\n",
    "graph_builder.add_edge(\"tools\",\"tool_calling_llm\")\n"
   ]
  },
  {
   "cell_type": "code",
   "execution_count": 14,
   "id": "20fcd596",
   "metadata": {},
   "outputs": [],
   "source": [
    "graph = graph_builder.compile()"
   ]
  },
  {
   "cell_type": "code",
   "execution_count": 15,
   "id": "fd0ad5fd",
   "metadata": {},
   "outputs": [
    {
     "data": {
      "image/png": "[encoded data removed]",
      "text/plain": [
       "<IPython.core.display.Image object>"
      ]
     },
     "metadata": {},
     "output_type": "display_data"
    }
   ],
   "source": [
    "from IPython.display import Image,display\n",
    "display(Image(graph.get_graph().draw_mermaid_png()))"
   ]
  },
  {
   "cell_type": "code",
   "execution_count": 17,
   "id": "f0d1feb1",
   "metadata": {},
   "outputs": [],
   "source": [
    "response = graph.invoke({\"messages\":\"Who is the PM of India\"})"
   ]
  },
  {
   "cell_type": "code",
   "execution_count": 18,
   "id": "87d0a721",
   "metadata": {},
   "outputs": [
    {
     "data": {
      "text/plain": [
       "[HumanMessage(content='Who is the PM of India', additional_kwargs={}, response_metadata={}, id='79cdb45c-0dea-48d8-8bb0-a7136488c60e'),\n",
       " AIMessage(content='', additional_kwargs={'tool_calls': [{'id': '6n9hy7233', 'function': {'arguments': '{\"query\":\"Who is the PM of India\",\"topic\":\"news\"}', 'name': 'tavily_search'}, 'type': 'function'}]}, response_metadata={'token_usage': {'completion_tokens': 56, 'prompt_tokens': 2194, 'total_tokens': 2250, 'completion_time': 0.268224928, 'prompt_time': 0.077663728, 'queue_time': 0.057288712000000006, 'total_time': 0.345888656}, 'model_name': 'llama3-70b-8192', 'system_fingerprint': 'fp_dd4ae1c591', 'finish_reason': 'tool_calls', 'logprobs': None}, id='run--3ec18732-9821-46af-8601-256f97fd10c0-0', tool_calls=[{'name': 'tavily_search', 'args': {'query': 'Who is the PM of India', 'topic': 'news'}, 'id': '6n9hy7233', 'type': 'tool_call'}], usage_metadata={'input_tokens': 2194, 'output_tokens': 56, 'total_tokens': 2250}),\n",
       " ToolMessage(content='{\"query\": \"Who is the PM of India\", \"follow_up_questions\": null, \"answer\": null, \"images\": [], \"results\": [{\"url\": \"https://ddnews.gov.in/en/axiom-mission-4-set-to-take-off-on-june-25-from-kennedy-space-centre/\", \"title\": \"NASA targets June 25 for Axiom-4 launch after multiple delays - DD News\", \"score\": 0.4787, \"published_date\": \"Tue, 24 Jun 2025 10:01:12 GMT\", \"content\": \"Image 5: DD News Image 15: NASA targets June 25 for Axiom-4 launch after multiple delays NASA has set June 25 as the new launch date for the long-delayed Axiom-4 (Ax-4) mission to the International Space Station (ISS), the space agency announced on Tuesday. Image 18: India overtakes Japan to become world\\'s 4th largest economy: NITI Aayog CEO Image 21: PM Narendra Modi’s 122nd Edition of Mann Ki Baat | 25th May, 2025Image 22: View Show Image 25: PM Narendra Modi’s 121st Edition of Mann Ki Baat | 27th April, 2025Image 26: View Show Image 27: LIVE: Watch the 120th Episode of Mann ki Baat Live on 30th March 2025! Image 28: View Show Image 29: DD News\", \"raw_content\": null}, {\"url\": \"https://www.latestly.com/agency-news/world-news-india-croatia-signed-four-key-agreements-on-agriculture-science-and-tech-cultural-exchange-and-hindi-chair-at-university-of-zagreb-6937505.html\", \"title\": \"World News - LatestLY\", \"score\": 0.39754128, \"published_date\": \"Thu, 19 Jun 2025 00:24:21 GMT\", \"content\": \"World News | India, Croatia Signed Four Key Agreements on Agriculture, Science and Tech, Cultural Exchange and Hindi Chair at University of Zagreb | LatestLY Addressing a special press briefing on PM Modi\\'s visit to Croatia, MEA Secretary (West) Tanmay Lal said that the key outcomes of the visit was signing of four MoUs on cooperation in agriculture and allied sectors, a program of cooperation in science and technology, a cultural exchange program and an MoU on Hindi Chair at University of Zagreb to promote Indian language and culture. Image 38: World News | India, Croatia Signed Four Key Agreements on Agriculture, Science and Tech, Cultural Exchange and Hindi Chair at University of Zagreb Image 41: ‘PM Modi Fantastic Man, Love Pakistan’: After Phone Call With Prime Minister Narendra Modi, US President Donald Trump Repeats Claim He Stopped India-Pak War (Watch Video) Donald Trump\\\\\")\", \"raw_content\": null}], \"response_time\": 0.18}', name='tavily_search', id='0ee40421-1945-40df-8c9f-b950ca2cf90f', tool_call_id='6n9hy7233'),\n",
       " AIMessage(content='The Prime Minister of India is Narendra Modi.', additional_kwargs={}, response_metadata={'token_usage': {'completion_tokens': 10, 'prompt_tokens': 2893, 'total_tokens': 2903, 'completion_time': 0.119998053, 'prompt_time': 0.115481999, 'queue_time': 0.05852627799999999, 'total_time': 0.235480052}, 'model_name': 'llama3-70b-8192', 'system_fingerprint': 'fp_dd4ae1c591', 'finish_reason': 'stop', 'logprobs': None}, id='run--55880929-d7e3-4808-a9cb-c4bf36879e10-0', usage_metadata={'input_tokens': 2893, 'output_tokens': 10, 'total_tokens': 2903})]"
      ]
     },
     "execution_count": 18,
     "metadata": {},
     "output_type": "execute_result"
    }
   ],
   "source": [
    "response[\"messages\"]"
   ]
  },
  {
   "cell_type": "code",
   "execution_count": 19,
   "id": "1e5206ab",
   "metadata": {},
   "outputs": [
    {
     "name": "stdout",
     "output_type": "stream",
     "text": [
      "================================\u001b[1m Human Message \u001b[0m=================================\n",
      "\n",
      "Who is the PM of India\n",
      "==================================\u001b[1m Ai Message \u001b[0m==================================\n",
      "Tool Calls:\n",
      "  tavily_search (6n9hy7233)\n",
      " Call ID: 6n9hy7233\n",
      "  Args:\n",
      "    query: Who is the PM of India\n",
      "    topic: news\n",
      "=================================\u001b[1m Tool Message \u001b[0m=================================\n",
      "Name: tavily_search\n",
      "\n",
      "{\"query\": \"Who is the PM of India\", \"follow_up_questions\": null, \"answer\": null, \"images\": [], \"results\": [{\"url\": \"https://ddnews.gov.in/en/axiom-mission-4-set-to-take-off-on-june-25-from-kennedy-space-centre/\", \"title\": \"NASA targets June 25 for Axiom-4 launch after multiple delays - DD News\", \"score\": 0.4787, \"published_date\": \"Tue, 24 Jun 2025 10:01:12 GMT\", \"content\": \"Image 5: DD News Image 15: NASA targets June 25 for Axiom-4 launch after multiple delays NASA has set June 25 as the new launch date for the long-delayed Axiom-4 (Ax-4) mission to the International Space Station (ISS), the space agency announced on Tuesday. Image 18: India overtakes Japan to become world's 4th largest economy: NITI Aayog CEO Image 21: PM Narendra Modi’s 122nd Edition of Mann Ki Baat | 25th May, 2025Image 22: View Show Image 25: PM Narendra Modi’s 121st Edition of Mann Ki Baat | 27th April, 2025Image 26: View Show Image 27: LIVE: Watch the 120th Episode of Mann ki Baat Live on 30th March 2025! Image 28: View Show Image 29: DD News\", \"raw_content\": null}, {\"url\": \"https://www.latestly.com/agency-news/world-news-india-croatia-signed-four-key-agreements-on-agriculture-science-and-tech-cultural-exchange-and-hindi-chair-at-university-of-zagreb-6937505.html\", \"title\": \"World News - LatestLY\", \"score\": 0.39754128, \"published_date\": \"Thu, 19 Jun 2025 00:24:21 GMT\", \"content\": \"World News | India, Croatia Signed Four Key Agreements on Agriculture, Science and Tech, Cultural Exchange and Hindi Chair at University of Zagreb | LatestLY Addressing a special press briefing on PM Modi's visit to Croatia, MEA Secretary (West) Tanmay Lal said that the key outcomes of the visit was signing of four MoUs on cooperation in agriculture and allied sectors, a program of cooperation in science and technology, a cultural exchange program and an MoU on Hindi Chair at University of Zagreb to promote Indian language and culture. Image 38: World News | India, Croatia Signed Four Key Agreements on Agriculture, Science and Tech, Cultural Exchange and Hindi Chair at University of Zagreb Image 41: ‘PM Modi Fantastic Man, Love Pakistan’: After Phone Call With Prime Minister Narendra Modi, US President Donald Trump Repeats Claim He Stopped India-Pak War (Watch Video) Donald Trump\\\")\", \"raw_content\": null}], \"response_time\": 0.18}\n",
      "==================================\u001b[1m Ai Message \u001b[0m==================================\n",
      "\n",
      "The Prime Minister of India is Narendra Modi.\n"
     ]
    }
   ],
   "source": [
    "for m in response[\"messages\"]:\n",
    "    m.pretty_print()"
   ]
  },
  {
   "cell_type": "code",
   "execution_count": 59,
   "id": "055f616a",
   "metadata": {},
   "outputs": [],
   "source": [
    "response2 = graph.invoke({\"messages\":\"What is the 5 multiplied by 6\"})"
   ]
  },
  {
   "cell_type": "code",
   "execution_count": 60,
   "id": "035a23e8",
   "metadata": {},
   "outputs": [
    {
     "data": {
      "text/plain": [
       "{'messages': [HumanMessage(content='What is the 5 multiplied by 6', additional_kwargs={}, response_metadata={}, id='583f12db-98f7-4e7b-a1f5-795ee000ff19'),\n",
       "  AIMessage(content='', additional_kwargs={'tool_calls': [{'id': 't9ack1dzj', 'function': {'arguments': '{\"a\":5,\"b\":6}', 'name': 'multiply'}, 'type': 'function'}]}, response_metadata={'token_usage': {'completion_tokens': 48, 'prompt_tokens': 2197, 'total_tokens': 2245, 'completion_time': 0.165913305, 'prompt_time': 0.093228173, 'queue_time': 0.05595350700000001, 'total_time': 0.259141478}, 'model_name': 'llama3-70b-8192', 'system_fingerprint': 'fp_dd4ae1c591', 'finish_reason': 'tool_calls', 'logprobs': None}, id='run--cf5334cb-c1c5-4ea6-8d3b-1bc7755ea8a7-0', tool_calls=[{'name': 'multiply', 'args': {'a': 5, 'b': 6}, 'id': 't9ack1dzj', 'type': 'tool_call'}], usage_metadata={'input_tokens': 2197, 'output_tokens': 48, 'total_tokens': 2245}),\n",
       "  ToolMessage(content='30', name='multiply', id='e2bb823d-1994-4d7a-b89b-17de28ae5daf', tool_call_id='t9ack1dzj')]}"
      ]
     },
     "execution_count": 60,
     "metadata": {},
     "output_type": "execute_result"
    }
   ],
   "source": [
    "response2"
   ]
  },
  {
   "cell_type": "code",
   "execution_count": 61,
   "id": "56c6f251",
   "metadata": {},
   "outputs": [
    {
     "name": "stdout",
     "output_type": "stream",
     "text": [
      "================================\u001b[1m Human Message \u001b[0m=================================\n",
      "\n",
      "What is the 5 multiplied by 6\n",
      "==================================\u001b[1m Ai Message \u001b[0m==================================\n",
      "Tool Calls:\n",
      "  multiply (t9ack1dzj)\n",
      " Call ID: t9ack1dzj\n",
      "  Args:\n",
      "    a: 5\n",
      "    b: 6\n",
      "=================================\u001b[1m Tool Message \u001b[0m=================================\n",
      "Name: multiply\n",
      "\n",
      "30\n"
     ]
    }
   ],
   "source": [
    "for m in response2[\"messages\"]:\n",
    "    m.pretty_print()"
   ]
  },
  {
   "cell_type": "code",
   "execution_count": null,
   "id": "b65e07ca",
   "metadata": {},
   "outputs": [],
   "source": []
  }
 ],
 "metadata": {
  "kernelspec": {
   "display_name": "base",
   "language": "python",
   "name": "python3"
  },
  "language_info": {
   "codemirror_mode": {
    "name": "ipython",
    "version": 3
   },
   "file_extension": ".py",
   "mimetype": "text/x-python",
   "name": "python",
   "nbconvert_exporter": "python",
   "pygments_lexer": "ipython3",
   "version": "3.12.7"
  }
 },
 "nbformat": 4,
 "nbformat_minor": 5
}
