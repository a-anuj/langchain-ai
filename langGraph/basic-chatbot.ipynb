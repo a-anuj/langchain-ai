{
 "cells": [
  {
   "cell_type": "code",
   "execution_count": 20,
   "id": "9c3caf24",
   "metadata": {},
   "outputs": [],
   "source": [
    "from typing import Annotated\n",
    "from typing_extensions import TypedDict\n",
    "from langgraph.graph import StateGraph,START\n",
    "from langgraph.graph.message import add_messages\n",
    "from langchain_groq import ChatGroq\n",
    "from langchain_core.messages import HumanMessage"
   ]
  },
  {
   "cell_type": "code",
   "execution_count": 9,
   "id": "0707184d",
   "metadata": {},
   "outputs": [],
   "source": [
    "class State(TypedDict):\n",
    "    messages: Annotated[list,add_messages]"
   ]
  },
  {
   "cell_type": "code",
   "execution_count": 24,
   "id": "11de2919",
   "metadata": {},
   "outputs": [],
   "source": [
    "import os\n",
    "from dotenv import load_dotenv\n",
    "load_dotenv()\n",
    "api_key = os.getenv(\"GROQ_API_KEY\")\n",
    "llm = ChatGroq(model=\"llama3-70b-8192\")\n"
   ]
  },
  {
   "cell_type": "code",
   "execution_count": 13,
   "id": "6d3baf9e",
   "metadata": {},
   "outputs": [],
   "source": [
    "def chatbot(state):\n",
    "    return {\"messages\":[llm.invoke(state[\"messages\"])]}"
   ]
  },
  {
   "cell_type": "code",
   "execution_count": 14,
   "id": "2aa0890f",
   "metadata": {},
   "outputs": [],
   "source": [
    "graph_builder = StateGraph(State)\n",
    "graph_builder.add_node(\"chatbot\",chatbot)\n",
    "graph_builder.add_edge(START,\"chatbot\")\n",
    "graph = graph_builder.compile()"
   ]
  },
  {
   "cell_type": "code",
   "execution_count": 29,
   "id": "b2aabb99",
   "metadata": {},
   "outputs": [
    {
     "name": "stdout",
     "output_type": "stream",
     "text": [
      "User :  1+1 in one word ?\n"
     ]
    }
   ],
   "source": [
    "user_input = \"1+1 in one word ?\"\n",
    "print(\"User : \",user_input)\n"
   ]
  },
  {
   "cell_type": "code",
   "execution_count": 45,
   "id": "0b10a503",
   "metadata": {},
   "outputs": [],
   "source": [
    "def stream_graph_updates(user_input):\n",
    "    for event in graph.stream({\"messages\": [{\"role\": \"user\", \"content\": user_input}]}):\n",
    "        for value in event.values():\n",
    "            print(value['messages'][0].content)"
   ]
  },
  {
   "cell_type": "code",
   "execution_count": 46,
   "id": "e3604e79",
   "metadata": {},
   "outputs": [
    {
     "name": "stdout",
     "output_type": "stream",
     "text": [
      "Two.\n"
     ]
    }
   ],
   "source": [
    "stream_graph_updates(user_input)"
   ]
  },
  {
   "cell_type": "code",
   "execution_count": 26,
   "id": "799fcb91",
   "metadata": {},
   "outputs": [
    {
     "name": "stdout",
     "output_type": "stream",
     "text": [
      "LangGraph!\n",
      "\n",
      "LangGraph is an open-source, AI-powered graph database designed specifically for natural language processing (NLP) and knowledge graph applications. It's built on top of the popular graph database, Neo4j, and provides a scalable, flexible, and efficient way to store, query, and analyze large-scale linguistic data.\n",
      "\n",
      "Here are some key features and benefits of LangGraph:\n",
      "\n",
      "1. **Language-agnostic**: LangGraph supports multiple languages, including English, Spanish, French, German, Chinese, and many more.\n",
      "2. **Graph-based data model**: LangGraph uses a graph data model to represent linguistic data, which allows for efficient querying and analysis of relationships between words, phrases, and concepts.\n",
      "3. **Scalability**: LangGraph is designed to handle large datasets and scale horizontally, making it suitable for big data NLP applications.\n",
      "4. **Query language**: LangGraph provides a custom query language, called LangQL, which is specifically designed for NLP and knowledge graph queries.\n",
      "5. **Integration with NLP tools**: LangGraph integrates with popular NLP libraries and frameworks, such as spaCy, Stanford CoreNLP, and NLTK.\n",
      "6. **Support for various data formats**: LangGraph supports various data formats, including CSV, JSON, and RDF (Resource Description Framework).\n",
      "\n",
      "Use cases for LangGraph include:\n",
      "\n",
      "1. **Text analysis**: LangGraph can be used for text analysis, sentiment analysis, and topic modeling.\n",
      "2. **Knowledge graph construction**: LangGraph can be used to build knowledge graphs from large-scale text data.\n",
      "3. **Question answering**: LangGraph can be used to build question answering systems that can query large knowledge graphs.\n",
      "4. **Information retrieval**: LangGraph can be used for information retrieval applications, such as search engines and recommender systems.\n",
      "\n",
      "Overall, LangGraph is a powerful tool for anyone working with large-scale linguistic data and knowledge graphs.\n"
     ]
    }
   ],
   "source": [
    "response = llm.invoke([HumanMessage(content=user_input)])\n",
    "print(response.content)"
   ]
  },
  {
   "cell_type": "code",
   "execution_count": null,
   "id": "3fda5df1",
   "metadata": {},
   "outputs": [],
   "source": []
  }
 ],
 "metadata": {
  "kernelspec": {
   "display_name": "base",
   "language": "python",
   "name": "python3"
  },
  "language_info": {
   "codemirror_mode": {
    "name": "ipython",
    "version": 3
   },
   "file_extension": ".py",
   "mimetype": "text/x-python",
   "name": "python",
   "nbconvert_exporter": "python",
   "pygments_lexer": "ipython3",
   "version": "3.12.7"
  }
 },
 "nbformat": 4,
 "nbformat_minor": 5
}
