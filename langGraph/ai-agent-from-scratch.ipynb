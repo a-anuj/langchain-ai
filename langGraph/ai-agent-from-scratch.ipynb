{
 "cells": [
  {
   "cell_type": "code",
   "execution_count": 1,
   "id": "bf86e6c1",
   "metadata": {},
   "outputs": [
    {
     "data": {
      "text/plain": [
       "True"
      ]
     },
     "execution_count": 1,
     "metadata": {},
     "output_type": "execute_result"
    }
   ],
   "source": [
    "import re\n",
    "import httpx\n",
    "import os\n",
    "from dotenv import load_dotenv\n",
    "load_dotenv()"
   ]
  },
  {
   "cell_type": "code",
   "execution_count": 2,
   "id": "5f1732ea",
   "metadata": {},
   "outputs": [],
   "source": [
    "from groq import Groq\n",
    "client = Groq(api_key=os.getenv(\"GROQ_API_KEY\"))\n",
    "class GroqLLM:\n",
    "    def __init__(self, client, model):\n",
    "        self.client = client\n",
    "        self.model = model\n",
    "\n",
    "    def __call__(self, query):\n",
    "        response = self.client.chat.completions.create(\n",
    "            model=self.model,\n",
    "            messages=[{\"role\": \"user\", \"content\": query}]\n",
    "        )\n",
    "        return response.choices[0].message.content\n",
    "\n",
    "# Initialize like this\n",
    "llm = GroqLLM(client, \"llama-3.3-70b-versatile\")"
   ]
  },
  {
   "cell_type": "code",
   "execution_count": 3,
   "id": "b2e964be",
   "metadata": {},
   "outputs": [
    {
     "name": "stdout",
     "output_type": "stream",
     "text": [
      "Hello. Is there something I can help you with or would you like to chat?\n"
     ]
    }
   ],
   "source": [
    "print(llm(\"Hello World\"))"
   ]
  },
  {
   "cell_type": "code",
   "execution_count": 20,
   "id": "bab3fac3",
   "metadata": {},
   "outputs": [],
   "source": [
    "class Agent:\n",
    "    def __init__(self,system=\"\"):\n",
    "        self.system = system\n",
    "        self.messages = []\n",
    "        if self.system:\n",
    "            self.messages.append({\"role\":\"system\",\"content\":system})\n",
    "    \n",
    "    def __call__(self, message):\n",
    "        self.messages.append({\"role\":\"user\",\"content\":message})\n",
    "        result = self.execute()\n",
    "        self.messages.append({\"role\":\"assistant\",\"content\":result})\n",
    "        return result\n",
    "    \n",
    "    def execute(self):\n",
    "        client = Groq(api_key=os.getenv(\"GROQ_API_KEY\"))\n",
    "        response = client.chat.completions.create(\n",
    "            model=\"llama-3.3-70b-versatile\",\n",
    "            messages=self.messages\n",
    "        )\n",
    "        return response.choices[0].message.content"
   ]
  },
  {
   "cell_type": "code",
   "execution_count": 21,
   "id": "511960fd",
   "metadata": {},
   "outputs": [],
   "source": [
    "prompt = \"\"\"\n",
    "You run in a loop of Thought, Action, PAUSE, Observation.\n",
    "At the end of the loop you output an Answer\n",
    "Use Thought to describe your thoughts about the question you have been asked.\n",
    "Use Action to run one of the actions available to you - then return PAUSE.\n",
    "Observation will be the result of running those actions.\n",
    "\n",
    "Your available actions are:\n",
    "\n",
    "calculate:\n",
    "e.g. calculate: 4 * 7 / 3\n",
    "Runs a calculation and returns the number - uses Python so be sure to use floating point syntax if necessary\n",
    "\n",
    "average_dog_weight:\n",
    "e.g. average_dog_weight: Collie\n",
    "returns average weight of a dog when given the breed\n",
    "\n",
    "Example session:\n",
    "\n",
    "Question: How much does a Bulldog weigh?\n",
    "Thought: I should look the dogs weight using average_dog_weight\n",
    "Action: average_dog_weight: Bulldog\n",
    "PAUSE\n",
    "\n",
    "You will be called again with this:\n",
    "\n",
    "Observation: A Bulldog weights 51 lbs\n",
    "\n",
    "You then output:\n",
    "\n",
    "Answer: A bulldog weights 51 lbs\n",
    "\"\"\".strip()"
   ]
  },
  {
   "cell_type": "code",
   "execution_count": 22,
   "id": "08364053",
   "metadata": {},
   "outputs": [
    {
     "data": {
      "text/plain": [
       "<__main__.Agent at 0x7d18c148ddf0>"
      ]
     },
     "execution_count": 22,
     "metadata": {},
     "output_type": "execute_result"
    }
   ],
   "source": [
    "abot = Agent(prompt)\n",
    "abot"
   ]
  },
  {
   "cell_type": "code",
   "execution_count": 23,
   "id": "da3b15e2",
   "metadata": {},
   "outputs": [],
   "source": [
    "def calculate(what):\n",
    "    return eval(what)\n",
    "\n",
    "def average_dog_weight(name):\n",
    "    if name in \"Scottish Terrier\": \n",
    "        return(\"Scottish Terriers average 20 lbs\")\n",
    "    elif name in \"Border Collie\":\n",
    "        return(\"a Border Collies average weight is 37 lbs\")\n",
    "    elif name in \"Toy Poodle\":\n",
    "        return(\"a toy poodles average weight is 7 lbs\")\n",
    "    else:\n",
    "        return(\"An average dog weights 50 lbs\")\n",
    "\n",
    "known_actions = {\n",
    "    \"calculate\": calculate,\n",
    "    \"average_dog_weight\": average_dog_weight\n",
    "}"
   ]
  },
  {
   "cell_type": "code",
   "execution_count": 24,
   "id": "07ef5943",
   "metadata": {},
   "outputs": [],
   "source": [
    "response = abot(\"How much does a toy poodle weigh?\")"
   ]
  },
  {
   "cell_type": "code",
   "execution_count": 25,
   "id": "9f0715b6",
   "metadata": {},
   "outputs": [
    {
     "name": "stdout",
     "output_type": "stream",
     "text": [
      "Thought: I should look up the weight of a toy poodle using the average_dog_weight action to find the average weight of this breed.\n",
      "\n",
      "Action: average_dog_weight: Toy Poodle\n",
      "PAUSE\n"
     ]
    }
   ],
   "source": [
    "print(response)"
   ]
  },
  {
   "cell_type": "code",
   "execution_count": 30,
   "id": "c9881973",
   "metadata": {},
   "outputs": [],
   "source": [
    "answer = average_dog_weight(\"Toy Poodle\")\n",
    "response_prompt = \"Observation : {}\".format(answer)"
   ]
  },
  {
   "cell_type": "code",
   "execution_count": 31,
   "id": "e6356822",
   "metadata": {},
   "outputs": [
    {
     "name": "stdout",
     "output_type": "stream",
     "text": [
      "Thought: The observation has now provided the average weight of a Toy Poodle, which is 7 lbs. This information directly answers the question about the weight of a Toy Poodle.\n",
      "\n",
      "Answer: A Toy Poodle weighs 7 lbs.\n"
     ]
    }
   ],
   "source": [
    "print(abot(response_prompt))"
   ]
  },
  {
   "cell_type": "code",
   "execution_count": 32,
   "id": "af93e0a0",
   "metadata": {},
   "outputs": [
    {
     "name": "stdout",
     "output_type": "stream",
     "text": [
      "Thought: To find the combined weight of the two dogs, I need to know the average weight of a Border Collie and a Scottish Terrier. I can use the average_dog_weight action to find these weights.\n",
      "\n",
      "Action: average_dog_weight: Border Collie\n",
      "PAUSE\n"
     ]
    }
   ],
   "source": [
    "question = \"\"\"I have two dogs, a border coolie and a scottish terrier. What is their combined weight\"\"\"\n",
    "response = abot(question)\n",
    "print(response)"
   ]
  },
  {
   "cell_type": "code",
   "execution_count": 34,
   "id": "25fcae08",
   "metadata": {},
   "outputs": [
    {
     "name": "stdout",
     "output_type": "stream",
     "text": [
      "Thought: Now that I have the average weight of a Border Collie, I need to find the average weight of a Scottish Terrier to calculate their combined weight.\n",
      "\n",
      "Action: average_dog_weight: Scottish Terrier\n",
      "PAUSE\n"
     ]
    }
   ],
   "source": [
    "weight = average_dog_weight(\"Border Collie\")\n",
    "prompt = \"Observation : {}\".format(weight)\n",
    "print(abot(prompt))"
   ]
  },
  {
   "cell_type": "code",
   "execution_count": 35,
   "id": "413f1890",
   "metadata": {},
   "outputs": [
    {
     "name": "stdout",
     "output_type": "stream",
     "text": [
      "Thought: With the average weights of both the Border Collie (37 lbs) and the Scottish Terrier (20 lbs), I can now calculate their combined weight.\n",
      "\n",
      "Action: calculate: 37.0 + 20.0\n",
      "PAUSE\n"
     ]
    }
   ],
   "source": [
    "weight2 = average_dog_weight(\"Scottish Terrier\")\n",
    "prompt = \"Observation : {}\".format(weight2)\n",
    "print(abot(prompt))"
   ]
  },
  {
   "cell_type": "code",
   "execution_count": 36,
   "id": "822e9645",
   "metadata": {},
   "outputs": [
    {
     "name": "stdout",
     "output_type": "stream",
     "text": [
      "Thought: The calculation has returned the combined weight of the two dogs, which is 57 lbs.\n",
      "\n",
      "Answer: The combined weight of the Border Collie and the Scottish Terrier is 57 lbs.\n"
     ]
    }
   ],
   "source": [
    "next_prompt = \"Observation : {}\".format(eval(\"37+20\"))\n",
    "print(abot(next_prompt))"
   ]
  },
  {
   "cell_type": "code",
   "execution_count": null,
   "id": "81181ed5",
   "metadata": {},
   "outputs": [],
   "source": []
  }
 ],
 "metadata": {
  "kernelspec": {
   "display_name": "base",
   "language": "python",
   "name": "python3"
  },
  "language_info": {
   "codemirror_mode": {
    "name": "ipython",
    "version": 3
   },
   "file_extension": ".py",
   "mimetype": "text/x-python",
   "name": "python",
   "nbconvert_exporter": "python",
   "pygments_lexer": "ipython3",
   "version": "3.12.7"
  }
 },
 "nbformat": 4,
 "nbformat_minor": 5
}
