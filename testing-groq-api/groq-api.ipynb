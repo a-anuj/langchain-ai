{
 "cells": [
  {
   "cell_type": "code",
   "execution_count": 2,
   "id": "49e1b731-6706-453d-be34-c8355ef754af",
   "metadata": {},
   "outputs": [
    {
     "name": "stdout",
     "output_type": "stream",
     "text": [
      "Collecting groq\n",
      "  Downloading groq-0.28.0-py3-none-any.whl.metadata (15 kB)\n",
      "Requirement already satisfied: anyio<5,>=3.5.0 in /home/anuj/anaconda3/lib/python3.12/site-packages (from groq) (4.6.2)\n",
      "Requirement already satisfied: distro<2,>=1.7.0 in /home/anuj/anaconda3/lib/python3.12/site-packages (from groq) (1.9.0)\n",
      "Requirement already satisfied: httpx<1,>=0.23.0 in /home/anuj/anaconda3/lib/python3.12/site-packages (from groq) (0.27.0)\n",
      "Requirement already satisfied: pydantic<3,>=1.9.0 in /home/anuj/anaconda3/lib/python3.12/site-packages (from groq) (2.8.2)\n",
      "Requirement already satisfied: sniffio in /home/anuj/anaconda3/lib/python3.12/site-packages (from groq) (1.3.0)\n",
      "Requirement already satisfied: typing-extensions<5,>=4.10 in /home/anuj/anaconda3/lib/python3.12/site-packages (from groq) (4.12.2)\n",
      "Requirement already satisfied: idna>=2.8 in /home/anuj/anaconda3/lib/python3.12/site-packages (from anyio<5,>=3.5.0->groq) (3.7)\n",
      "Requirement already satisfied: certifi in /home/anuj/anaconda3/lib/python3.12/site-packages (from httpx<1,>=0.23.0->groq) (2024.8.30)\n",
      "Requirement already satisfied: httpcore==1.* in /home/anuj/anaconda3/lib/python3.12/site-packages (from httpx<1,>=0.23.0->groq) (1.0.2)\n",
      "Requirement already satisfied: h11<0.15,>=0.13 in /home/anuj/anaconda3/lib/python3.12/site-packages (from httpcore==1.*->httpx<1,>=0.23.0->groq) (0.14.0)\n",
      "Requirement already satisfied: annotated-types>=0.4.0 in /home/anuj/anaconda3/lib/python3.12/site-packages (from pydantic<3,>=1.9.0->groq) (0.6.0)\n",
      "Requirement already satisfied: pydantic-core==2.20.1 in /home/anuj/anaconda3/lib/python3.12/site-packages (from pydantic<3,>=1.9.0->groq) (2.20.1)\n",
      "Downloading groq-0.28.0-py3-none-any.whl (130 kB)\n",
      "Installing collected packages: groq\n",
      "Successfully installed groq-0.28.0\n",
      "Note: you may need to restart the kernel to use updated packages.\n"
     ]
    }
   ],
   "source": [
    "#pip install groq"
   ]
  },
  {
   "cell_type": "code",
   "execution_count": 2,
   "id": "ed1a4a0f-ffc8-44ee-9514-21c10f42d9ca",
   "metadata": {},
   "outputs": [],
   "source": [
    "import os"
   ]
  },
  {
   "cell_type": "code",
   "execution_count": 6,
   "id": "582e5749-ec35-4d5a-9cd3-e481ea8f087e",
   "metadata": {},
   "outputs": [
    {
     "data": {
      "text/plain": [
       "True"
      ]
     },
     "execution_count": 6,
     "metadata": {},
     "output_type": "execute_result"
    }
   ],
   "source": [
    "from dotenv import load_dotenv\n",
    "load_dotenv()"
   ]
  },
  {
   "cell_type": "code",
   "execution_count": 10,
   "id": "06697f98-08da-4bce-ae10-707aa68147de",
   "metadata": {},
   "outputs": [],
   "source": [
    "from groq import Groq\n",
    "client = Groq(api_key=os.getenv(\"GROQ_API_KEY\"))"
   ]
  },
  {
   "cell_type": "code",
   "execution_count": 18,
   "id": "15f13834-3240-4268-869f-82122b1dfc22",
   "metadata": {},
   "outputs": [
    {
     "name": "stdout",
     "output_type": "stream",
     "text": [
      "The speed of light in a vacuum is approximately **299,792,458 meters per second** (m/s) or about **186,282 miles per second**. This is a fundamental constant in physics, denoted by the symbol 'c'.\n"
     ]
    }
   ],
   "source": [
    "response = client.chat.completions.create(\n",
    "    model=\"llama-3.3-70b-versatile\",\n",
    "    messages=[{\"role\": \"user\", \"content\": \"What's the speed of light?\"}]\n",
    ")\n",
    "\n",
    "print(response.choices[0].message.content)"
   ]
  },
  {
   "cell_type": "code",
   "execution_count": 20,
   "id": "e00a5e51-40eb-4d40-81aa-586beecd9e10",
   "metadata": {},
   "outputs": [],
   "source": [
    "class GroqLLM:\n",
    "    def __init__(self, client, model):\n",
    "        self.client = client\n",
    "        self.model = model\n",
    "\n",
    "    def __call__(self, query):\n",
    "        response = self.client.chat.completions.create(\n",
    "            model=self.model,\n",
    "            messages=[{\"role\": \"user\", \"content\": query}]\n",
    "        )\n",
    "        return response.choices[0].message.content"
   ]
  },
  {
   "cell_type": "code",
   "execution_count": 44,
   "id": "f36783e8-9e1c-48be-8099-266d6c0c67ee",
   "metadata": {},
   "outputs": [
    {
     "name": "stdout",
     "output_type": "stream",
     "text": [
      "MSD can refer to several things, but I'll provide a few possible answers:\n",
      "\n",
      "1. **MSD (Merck & Co., Inc.)**: MSD is a multinational pharmaceutical company, also known as Merck in the United States and Canada. The company is headquartered in Kenilworth, New Jersey, and is one of the largest pharmaceutical companies in the world.\n",
      "2. **MS Dhoni (Mahendra Singh Dhoni)**: MS Dhoni is a former Indian international cricketer who was the captain of the Indian national team. He is widely regarded as one of the greatest wicket-keepers and finishers in the history of cricket. Dhoni is also known for his leadership and tactical skills on the field.\n",
      "3. **MSD (Musculoskeletal Disorder)**: MSD is an abbreviation for Musculoskeletal Disorder, which refers to a range of conditions that affect the muscles, bones, and joints. Examples of MSDs include arthritis, tendonitis, and lower back pain.\n",
      "\n",
      "Without more context, it's difficult to determine which MSD you are referring to. If you have any additional information or clarification, I'd be happy to try and provide a more specific answer.\n"
     ]
    }
   ],
   "source": [
    "llm = GroqLLM(client,\"llama-3.3-70b-versatile\")\n",
    "response = llm(\"who is msd\")\n",
    "print(response)"
   ]
  },
  {
   "cell_type": "code",
   "execution_count": null,
   "id": "3ebf36ec-872e-4182-9b2b-98f393f95957",
   "metadata": {},
   "outputs": [],
   "source": []
  }
 ],
 "metadata": {
  "kernelspec": {
   "display_name": "Python 3 (ipykernel)",
   "language": "python",
   "name": "python3"
  },
  "language_info": {
   "codemirror_mode": {
    "name": "ipython",
    "version": 3
   },
   "file_extension": ".py",
   "mimetype": "text/x-python",
   "name": "python",
   "nbconvert_exporter": "python",
   "pygments_lexer": "ipython3",
   "version": "3.12.7"
  }
 },
 "nbformat": 4,
 "nbformat_minor": 5
}
